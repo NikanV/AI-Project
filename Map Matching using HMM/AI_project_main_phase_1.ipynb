{
  "cells": [
    {
      "cell_type": "markdown",
      "metadata": {},
      "source": [
        "# Map Matching Project - Phase 1\n",
        "<div style=\"text-align: center\">\n",
        "<h1 style = \"color: red\"> Sharif University Of Technology</h1>\n",
        "<h2 style = \"color: green\"> DR. Mahdieh Soleymani | DR. MohammadHossein Rohban </h2>\n",
        "<h3 style = \"color: cyan\"> Head of Project: AmirHossein Razlighi <h3>\n",
        "<h3 style = \"color: cyan\"> Designed By: AmirHossein Razlighi - Hamidreza Yaghoubi - Alireza Heidari - Reza Vahidi Majd - Parham Rezaei<h3>\n",
        "<h3 style = \"color: cyan\"> Documents Designed by: Mohammad Moshtaghi Far<h3>\n",
        "</div>"
      ]
    },
    {
      "cell_type": "markdown",
      "metadata": {
        "id": "NwJh3NuumTZT"
      },
      "source": [
        "## Setting up the environment"
      ]
    },
    {
      "cell_type": "code",
      "execution_count": 1,
      "metadata": {
        "colab": {
          "base_uri": "https://localhost:8080/"
        },
        "id": "JTKl9O5glmbP",
        "outputId": "e0087573-d26c-4f57-9616-e4a98b4605fd"
      },
      "outputs": [
        {
          "name": "stdout",
          "output_type": "stream",
          "text": [
            "Requirement already satisfied: pyrosm in /Library/Frameworks/Python.framework/Versions/3.11/lib/python3.11/site-packages (0.6.2)\n",
            "Requirement already satisfied: keplergl in /Library/Frameworks/Python.framework/Versions/3.11/lib/python3.11/site-packages (0.3.2)\n",
            "Requirement already satisfied: haversine in /Library/Frameworks/Python.framework/Versions/3.11/lib/python3.11/site-packages (2.8.0)\n",
            "Requirement already satisfied: pandas in /Library/Frameworks/Python.framework/Versions/3.11/lib/python3.11/site-packages (2.2.0)\n",
            "Requirement already satisfied: numpy in /Library/Frameworks/Python.framework/Versions/3.11/lib/python3.11/site-packages (1.24.3)\n",
            "Requirement already satisfied: python-rapidjson in /Library/Frameworks/Python.framework/Versions/3.11/lib/python3.11/site-packages (from pyrosm) (1.14)\n",
            "Requirement already satisfied: setuptools>=18.0 in /Library/Frameworks/Python.framework/Versions/3.11/lib/python3.11/site-packages (from pyrosm) (65.5.0)\n",
            "Requirement already satisfied: geopandas>=0.12.0 in /Library/Frameworks/Python.framework/Versions/3.11/lib/python3.11/site-packages (from pyrosm) (0.14.1)\n",
            "Requirement already satisfied: shapely>=2.0.1 in /Library/Frameworks/Python.framework/Versions/3.11/lib/python3.11/site-packages (from pyrosm) (2.0.2)\n",
            "Requirement already satisfied: cykhash in /Library/Frameworks/Python.framework/Versions/3.11/lib/python3.11/site-packages (from pyrosm) (2.0.1)\n",
            "Requirement already satisfied: pyrobuf in /Library/Frameworks/Python.framework/Versions/3.11/lib/python3.11/site-packages (from pyrosm) (0.9.3)\n",
            "Requirement already satisfied: ipywidgets<8,>=7.0.0 in /Library/Frameworks/Python.framework/Versions/3.11/lib/python3.11/site-packages (from keplergl) (7.8.1)\n",
            "Requirement already satisfied: traittypes>=0.2.1 in /Library/Frameworks/Python.framework/Versions/3.11/lib/python3.11/site-packages (from keplergl) (0.2.1)\n",
            "Requirement already satisfied: python-dateutil>=2.8.2 in /Library/Frameworks/Python.framework/Versions/3.11/lib/python3.11/site-packages (from pandas) (2.8.2)\n",
            "Requirement already satisfied: pytz>=2020.1 in /Library/Frameworks/Python.framework/Versions/3.11/lib/python3.11/site-packages (from pandas) (2023.3.post1)\n",
            "Requirement already satisfied: tzdata>=2022.7 in /Library/Frameworks/Python.framework/Versions/3.11/lib/python3.11/site-packages (from pandas) (2023.3)\n",
            "Requirement already satisfied: fiona>=1.8.21 in /Library/Frameworks/Python.framework/Versions/3.11/lib/python3.11/site-packages (from geopandas>=0.12.0->pyrosm) (1.9.5)\n",
            "Requirement already satisfied: packaging in /Library/Frameworks/Python.framework/Versions/3.11/lib/python3.11/site-packages (from geopandas>=0.12.0->pyrosm) (23.1)\n",
            "Requirement already satisfied: pyproj>=3.3.0 in /Library/Frameworks/Python.framework/Versions/3.11/lib/python3.11/site-packages (from geopandas>=0.12.0->pyrosm) (3.6.1)\n",
            "Requirement already satisfied: comm>=0.1.3 in /Users/nikanvasei/Library/Python/3.11/lib/python/site-packages (from ipywidgets<8,>=7.0.0->keplergl) (0.1.3)\n",
            "Requirement already satisfied: ipython-genutils~=0.2.0 in /Library/Frameworks/Python.framework/Versions/3.11/lib/python3.11/site-packages (from ipywidgets<8,>=7.0.0->keplergl) (0.2.0)\n",
            "Requirement already satisfied: traitlets>=4.3.1 in /Users/nikanvasei/Library/Python/3.11/lib/python/site-packages (from ipywidgets<8,>=7.0.0->keplergl) (5.9.0)\n",
            "Requirement already satisfied: widgetsnbextension~=3.6.6 in /Library/Frameworks/Python.framework/Versions/3.11/lib/python3.11/site-packages (from ipywidgets<8,>=7.0.0->keplergl) (3.6.6)\n",
            "Requirement already satisfied: ipython>=4.0.0 in /Users/nikanvasei/Library/Python/3.11/lib/python/site-packages (from ipywidgets<8,>=7.0.0->keplergl) (8.14.0)\n",
            "Requirement already satisfied: jupyterlab-widgets<3,>=1.0.0 in /Library/Frameworks/Python.framework/Versions/3.11/lib/python3.11/site-packages (from ipywidgets<8,>=7.0.0->keplergl) (1.1.7)\n",
            "Requirement already satisfied: six>=1.5 in /Library/Frameworks/Python.framework/Versions/3.11/lib/python3.11/site-packages (from python-dateutil>=2.8.2->pandas) (1.16.0)\n",
            "Requirement already satisfied: jinja2>=2.8 in /Library/Frameworks/Python.framework/Versions/3.11/lib/python3.11/site-packages (from pyrobuf->pyrosm) (3.1.2)\n",
            "Requirement already satisfied: cython>=0.23 in /Library/Frameworks/Python.framework/Versions/3.11/lib/python3.11/site-packages (from pyrobuf->pyrosm) (3.0.7)\n",
            "Requirement already satisfied: attrs>=19.2.0 in /Library/Frameworks/Python.framework/Versions/3.11/lib/python3.11/site-packages (from fiona>=1.8.21->geopandas>=0.12.0->pyrosm) (23.1.0)\n",
            "Requirement already satisfied: certifi in /Library/Frameworks/Python.framework/Versions/3.11/lib/python3.11/site-packages (from fiona>=1.8.21->geopandas>=0.12.0->pyrosm) (2023.5.7)\n",
            "Requirement already satisfied: click~=8.0 in /Library/Frameworks/Python.framework/Versions/3.11/lib/python3.11/site-packages (from fiona>=1.8.21->geopandas>=0.12.0->pyrosm) (8.1.3)\n",
            "Requirement already satisfied: click-plugins>=1.0 in /Library/Frameworks/Python.framework/Versions/3.11/lib/python3.11/site-packages (from fiona>=1.8.21->geopandas>=0.12.0->pyrosm) (1.1.1)\n",
            "Requirement already satisfied: cligj>=0.5 in /Library/Frameworks/Python.framework/Versions/3.11/lib/python3.11/site-packages (from fiona>=1.8.21->geopandas>=0.12.0->pyrosm) (0.7.2)\n",
            "Requirement already satisfied: backcall in /Users/nikanvasei/Library/Python/3.11/lib/python/site-packages (from ipython>=4.0.0->ipywidgets<8,>=7.0.0->keplergl) (0.2.0)\n",
            "Requirement already satisfied: decorator in /Users/nikanvasei/Library/Python/3.11/lib/python/site-packages (from ipython>=4.0.0->ipywidgets<8,>=7.0.0->keplergl) (5.1.1)\n",
            "Requirement already satisfied: jedi>=0.16 in /Users/nikanvasei/Library/Python/3.11/lib/python/site-packages (from ipython>=4.0.0->ipywidgets<8,>=7.0.0->keplergl) (0.18.2)\n",
            "Requirement already satisfied: matplotlib-inline in /Users/nikanvasei/Library/Python/3.11/lib/python/site-packages (from ipython>=4.0.0->ipywidgets<8,>=7.0.0->keplergl) (0.1.6)\n",
            "Requirement already satisfied: pickleshare in /Users/nikanvasei/Library/Python/3.11/lib/python/site-packages (from ipython>=4.0.0->ipywidgets<8,>=7.0.0->keplergl) (0.7.5)\n",
            "Requirement already satisfied: prompt-toolkit!=3.0.37,<3.1.0,>=3.0.30 in /Users/nikanvasei/Library/Python/3.11/lib/python/site-packages (from ipython>=4.0.0->ipywidgets<8,>=7.0.0->keplergl) (3.0.38)\n",
            "Requirement already satisfied: pygments>=2.4.0 in /Users/nikanvasei/Library/Python/3.11/lib/python/site-packages (from ipython>=4.0.0->ipywidgets<8,>=7.0.0->keplergl) (2.15.1)\n",
            "Requirement already satisfied: stack-data in /Users/nikanvasei/Library/Python/3.11/lib/python/site-packages (from ipython>=4.0.0->ipywidgets<8,>=7.0.0->keplergl) (0.6.2)\n",
            "Requirement already satisfied: pexpect>4.3 in /Users/nikanvasei/Library/Python/3.11/lib/python/site-packages (from ipython>=4.0.0->ipywidgets<8,>=7.0.0->keplergl) (4.8.0)\n",
            "Requirement already satisfied: appnope in /Users/nikanvasei/Library/Python/3.11/lib/python/site-packages (from ipython>=4.0.0->ipywidgets<8,>=7.0.0->keplergl) (0.1.3)\n",
            "Requirement already satisfied: MarkupSafe>=2.0 in /Library/Frameworks/Python.framework/Versions/3.11/lib/python3.11/site-packages (from jinja2>=2.8->pyrobuf->pyrosm) (2.1.3)\n",
            "Requirement already satisfied: notebook>=4.4.1 in /Library/Frameworks/Python.framework/Versions/3.11/lib/python3.11/site-packages (from widgetsnbextension~=3.6.6->ipywidgets<8,>=7.0.0->keplergl) (7.0.6)\n",
            "Requirement already satisfied: parso<0.9.0,>=0.8.0 in /Users/nikanvasei/Library/Python/3.11/lib/python/site-packages (from jedi>=0.16->ipython>=4.0.0->ipywidgets<8,>=7.0.0->keplergl) (0.8.3)\n",
            "Requirement already satisfied: jupyter-server<3,>=2.4.0 in /Library/Frameworks/Python.framework/Versions/3.11/lib/python3.11/site-packages (from notebook>=4.4.1->widgetsnbextension~=3.6.6->ipywidgets<8,>=7.0.0->keplergl) (2.7.0)\n",
            "Requirement already satisfied: jupyterlab-server<3,>=2.22.1 in /Library/Frameworks/Python.framework/Versions/3.11/lib/python3.11/site-packages (from notebook>=4.4.1->widgetsnbextension~=3.6.6->ipywidgets<8,>=7.0.0->keplergl) (2.23.0)\n",
            "Requirement already satisfied: jupyterlab<5,>=4.0.2 in /Library/Frameworks/Python.framework/Versions/3.11/lib/python3.11/site-packages (from notebook>=4.4.1->widgetsnbextension~=3.6.6->ipywidgets<8,>=7.0.0->keplergl) (4.0.2)\n",
            "Requirement already satisfied: notebook-shim<0.3,>=0.2 in /Library/Frameworks/Python.framework/Versions/3.11/lib/python3.11/site-packages (from notebook>=4.4.1->widgetsnbextension~=3.6.6->ipywidgets<8,>=7.0.0->keplergl) (0.2.3)\n",
            "Requirement already satisfied: tornado>=6.2.0 in /Users/nikanvasei/Library/Python/3.11/lib/python/site-packages (from notebook>=4.4.1->widgetsnbextension~=3.6.6->ipywidgets<8,>=7.0.0->keplergl) (6.3.2)\n",
            "Requirement already satisfied: ptyprocess>=0.5 in /Users/nikanvasei/Library/Python/3.11/lib/python/site-packages (from pexpect>4.3->ipython>=4.0.0->ipywidgets<8,>=7.0.0->keplergl) (0.7.0)\n",
            "Requirement already satisfied: wcwidth in /Users/nikanvasei/Library/Python/3.11/lib/python/site-packages (from prompt-toolkit!=3.0.37,<3.1.0,>=3.0.30->ipython>=4.0.0->ipywidgets<8,>=7.0.0->keplergl) (0.2.6)\n",
            "Requirement already satisfied: executing>=1.2.0 in /Users/nikanvasei/Library/Python/3.11/lib/python/site-packages (from stack-data->ipython>=4.0.0->ipywidgets<8,>=7.0.0->keplergl) (1.2.0)\n",
            "Requirement already satisfied: asttokens>=2.1.0 in /Users/nikanvasei/Library/Python/3.11/lib/python/site-packages (from stack-data->ipython>=4.0.0->ipywidgets<8,>=7.0.0->keplergl) (2.2.1)\n",
            "Requirement already satisfied: pure-eval in /Users/nikanvasei/Library/Python/3.11/lib/python/site-packages (from stack-data->ipython>=4.0.0->ipywidgets<8,>=7.0.0->keplergl) (0.2.2)\n",
            "Requirement already satisfied: anyio>=3.1.0 in /Library/Frameworks/Python.framework/Versions/3.11/lib/python3.11/site-packages (from jupyter-server<3,>=2.4.0->notebook>=4.4.1->widgetsnbextension~=3.6.6->ipywidgets<8,>=7.0.0->keplergl) (3.7.1)\n",
            "Requirement already satisfied: argon2-cffi in /Library/Frameworks/Python.framework/Versions/3.11/lib/python3.11/site-packages (from jupyter-server<3,>=2.4.0->notebook>=4.4.1->widgetsnbextension~=3.6.6->ipywidgets<8,>=7.0.0->keplergl) (21.3.0)\n",
            "Requirement already satisfied: jupyter-client>=7.4.4 in /Users/nikanvasei/Library/Python/3.11/lib/python/site-packages (from jupyter-server<3,>=2.4.0->notebook>=4.4.1->widgetsnbextension~=3.6.6->ipywidgets<8,>=7.0.0->keplergl) (8.3.0)\n",
            "Requirement already satisfied: jupyter-core!=5.0.*,>=4.12 in /Users/nikanvasei/Library/Python/3.11/lib/python/site-packages (from jupyter-server<3,>=2.4.0->notebook>=4.4.1->widgetsnbextension~=3.6.6->ipywidgets<8,>=7.0.0->keplergl) (5.3.1)\n",
            "Requirement already satisfied: jupyter-events>=0.6.0 in /Library/Frameworks/Python.framework/Versions/3.11/lib/python3.11/site-packages (from jupyter-server<3,>=2.4.0->notebook>=4.4.1->widgetsnbextension~=3.6.6->ipywidgets<8,>=7.0.0->keplergl) (0.6.3)\n",
            "Requirement already satisfied: jupyter-server-terminals in /Library/Frameworks/Python.framework/Versions/3.11/lib/python3.11/site-packages (from jupyter-server<3,>=2.4.0->notebook>=4.4.1->widgetsnbextension~=3.6.6->ipywidgets<8,>=7.0.0->keplergl) (0.4.4)\n",
            "Requirement already satisfied: nbconvert>=6.4.4 in /Library/Frameworks/Python.framework/Versions/3.11/lib/python3.11/site-packages (from jupyter-server<3,>=2.4.0->notebook>=4.4.1->widgetsnbextension~=3.6.6->ipywidgets<8,>=7.0.0->keplergl) (7.6.0)\n",
            "Requirement already satisfied: nbformat>=5.3.0 in /Library/Frameworks/Python.framework/Versions/3.11/lib/python3.11/site-packages (from jupyter-server<3,>=2.4.0->notebook>=4.4.1->widgetsnbextension~=3.6.6->ipywidgets<8,>=7.0.0->keplergl) (5.9.0)\n",
            "Requirement already satisfied: overrides in /Library/Frameworks/Python.framework/Versions/3.11/lib/python3.11/site-packages (from jupyter-server<3,>=2.4.0->notebook>=4.4.1->widgetsnbextension~=3.6.6->ipywidgets<8,>=7.0.0->keplergl) (7.3.1)\n",
            "Requirement already satisfied: prometheus-client in /Library/Frameworks/Python.framework/Versions/3.11/lib/python3.11/site-packages (from jupyter-server<3,>=2.4.0->notebook>=4.4.1->widgetsnbextension~=3.6.6->ipywidgets<8,>=7.0.0->keplergl) (0.17.0)\n",
            "Requirement already satisfied: pyzmq>=24 in /Library/Frameworks/Python.framework/Versions/3.11/lib/python3.11/site-packages (from jupyter-server<3,>=2.4.0->notebook>=4.4.1->widgetsnbextension~=3.6.6->ipywidgets<8,>=7.0.0->keplergl) (25.1.0)\n",
            "Requirement already satisfied: send2trash in /Library/Frameworks/Python.framework/Versions/3.11/lib/python3.11/site-packages (from jupyter-server<3,>=2.4.0->notebook>=4.4.1->widgetsnbextension~=3.6.6->ipywidgets<8,>=7.0.0->keplergl) (1.8.2)\n",
            "Requirement already satisfied: terminado>=0.8.3 in /Library/Frameworks/Python.framework/Versions/3.11/lib/python3.11/site-packages (from jupyter-server<3,>=2.4.0->notebook>=4.4.1->widgetsnbextension~=3.6.6->ipywidgets<8,>=7.0.0->keplergl) (0.17.1)\n",
            "Requirement already satisfied: websocket-client in /Library/Frameworks/Python.framework/Versions/3.11/lib/python3.11/site-packages (from jupyter-server<3,>=2.4.0->notebook>=4.4.1->widgetsnbextension~=3.6.6->ipywidgets<8,>=7.0.0->keplergl) (1.6.1)\n",
            "Requirement already satisfied: async-lru>=1.0.0 in /Library/Frameworks/Python.framework/Versions/3.11/lib/python3.11/site-packages (from jupyterlab<5,>=4.0.2->notebook>=4.4.1->widgetsnbextension~=3.6.6->ipywidgets<8,>=7.0.0->keplergl) (2.0.2)\n",
            "Requirement already satisfied: ipykernel in /Users/nikanvasei/Library/Python/3.11/lib/python/site-packages (from jupyterlab<5,>=4.0.2->notebook>=4.4.1->widgetsnbextension~=3.6.6->ipywidgets<8,>=7.0.0->keplergl) (6.23.3)\n",
            "Requirement already satisfied: jupyter-lsp>=2.0.0 in /Library/Frameworks/Python.framework/Versions/3.11/lib/python3.11/site-packages (from jupyterlab<5,>=4.0.2->notebook>=4.4.1->widgetsnbextension~=3.6.6->ipywidgets<8,>=7.0.0->keplergl) (2.2.0)\n",
            "Requirement already satisfied: babel>=2.10 in /Library/Frameworks/Python.framework/Versions/3.11/lib/python3.11/site-packages (from jupyterlab-server<3,>=2.22.1->notebook>=4.4.1->widgetsnbextension~=3.6.6->ipywidgets<8,>=7.0.0->keplergl) (2.12.1)\n",
            "Requirement already satisfied: json5>=0.9.0 in /Library/Frameworks/Python.framework/Versions/3.11/lib/python3.11/site-packages (from jupyterlab-server<3,>=2.22.1->notebook>=4.4.1->widgetsnbextension~=3.6.6->ipywidgets<8,>=7.0.0->keplergl) (0.9.14)\n",
            "Requirement already satisfied: jsonschema>=4.17.3 in /Library/Frameworks/Python.framework/Versions/3.11/lib/python3.11/site-packages (from jupyterlab-server<3,>=2.22.1->notebook>=4.4.1->widgetsnbextension~=3.6.6->ipywidgets<8,>=7.0.0->keplergl) (4.18.0)\n",
            "Requirement already satisfied: requests>=2.28 in /Library/Frameworks/Python.framework/Versions/3.11/lib/python3.11/site-packages (from jupyterlab-server<3,>=2.22.1->notebook>=4.4.1->widgetsnbextension~=3.6.6->ipywidgets<8,>=7.0.0->keplergl) (2.31.0)\n",
            "Requirement already satisfied: idna>=2.8 in /Library/Frameworks/Python.framework/Versions/3.11/lib/python3.11/site-packages (from anyio>=3.1.0->jupyter-server<3,>=2.4.0->notebook>=4.4.1->widgetsnbextension~=3.6.6->ipywidgets<8,>=7.0.0->keplergl) (3.4)\n",
            "Requirement already satisfied: sniffio>=1.1 in /Library/Frameworks/Python.framework/Versions/3.11/lib/python3.11/site-packages (from anyio>=3.1.0->jupyter-server<3,>=2.4.0->notebook>=4.4.1->widgetsnbextension~=3.6.6->ipywidgets<8,>=7.0.0->keplergl) (1.3.0)\n",
            "Requirement already satisfied: typing-extensions>=4.0.0 in /Library/Frameworks/Python.framework/Versions/3.11/lib/python3.11/site-packages (from async-lru>=1.0.0->jupyterlab<5,>=4.0.2->notebook>=4.4.1->widgetsnbextension~=3.6.6->ipywidgets<8,>=7.0.0->keplergl) (4.12.2)\n",
            "Requirement already satisfied: jsonschema-specifications>=2023.03.6 in /Library/Frameworks/Python.framework/Versions/3.11/lib/python3.11/site-packages (from jsonschema>=4.17.3->jupyterlab-server<3,>=2.22.1->notebook>=4.4.1->widgetsnbextension~=3.6.6->ipywidgets<8,>=7.0.0->keplergl) (2023.6.1)\n",
            "Requirement already satisfied: referencing>=0.28.4 in /Library/Frameworks/Python.framework/Versions/3.11/lib/python3.11/site-packages (from jsonschema>=4.17.3->jupyterlab-server<3,>=2.22.1->notebook>=4.4.1->widgetsnbextension~=3.6.6->ipywidgets<8,>=7.0.0->keplergl) (0.29.1)\n",
            "Requirement already satisfied: rpds-py>=0.7.1 in /Library/Frameworks/Python.framework/Versions/3.11/lib/python3.11/site-packages (from jsonschema>=4.17.3->jupyterlab-server<3,>=2.22.1->notebook>=4.4.1->widgetsnbextension~=3.6.6->ipywidgets<8,>=7.0.0->keplergl) (0.8.8)\n",
            "Requirement already satisfied: platformdirs>=2.5 in /Users/nikanvasei/Library/Python/3.11/lib/python/site-packages (from jupyter-core!=5.0.*,>=4.12->jupyter-server<3,>=2.4.0->notebook>=4.4.1->widgetsnbextension~=3.6.6->ipywidgets<8,>=7.0.0->keplergl) (3.8.0)\n",
            "Requirement already satisfied: python-json-logger>=2.0.4 in /Library/Frameworks/Python.framework/Versions/3.11/lib/python3.11/site-packages (from jupyter-events>=0.6.0->jupyter-server<3,>=2.4.0->notebook>=4.4.1->widgetsnbextension~=3.6.6->ipywidgets<8,>=7.0.0->keplergl) (2.0.7)\n",
            "Requirement already satisfied: pyyaml>=5.3 in /Library/Frameworks/Python.framework/Versions/3.11/lib/python3.11/site-packages (from jupyter-events>=0.6.0->jupyter-server<3,>=2.4.0->notebook>=4.4.1->widgetsnbextension~=3.6.6->ipywidgets<8,>=7.0.0->keplergl) (6.0)\n",
            "Requirement already satisfied: rfc3339-validator in /Library/Frameworks/Python.framework/Versions/3.11/lib/python3.11/site-packages (from jupyter-events>=0.6.0->jupyter-server<3,>=2.4.0->notebook>=4.4.1->widgetsnbextension~=3.6.6->ipywidgets<8,>=7.0.0->keplergl) (0.1.4)\n",
            "Requirement already satisfied: rfc3986-validator>=0.1.1 in /Library/Frameworks/Python.framework/Versions/3.11/lib/python3.11/site-packages (from jupyter-events>=0.6.0->jupyter-server<3,>=2.4.0->notebook>=4.4.1->widgetsnbextension~=3.6.6->ipywidgets<8,>=7.0.0->keplergl) (0.1.1)\n",
            "Requirement already satisfied: beautifulsoup4 in /Library/Frameworks/Python.framework/Versions/3.11/lib/python3.11/site-packages (from nbconvert>=6.4.4->jupyter-server<3,>=2.4.0->notebook>=4.4.1->widgetsnbextension~=3.6.6->ipywidgets<8,>=7.0.0->keplergl) (4.12.2)\n",
            "Requirement already satisfied: bleach!=5.0.0 in /Library/Frameworks/Python.framework/Versions/3.11/lib/python3.11/site-packages (from nbconvert>=6.4.4->jupyter-server<3,>=2.4.0->notebook>=4.4.1->widgetsnbextension~=3.6.6->ipywidgets<8,>=7.0.0->keplergl) (6.0.0)\n",
            "Requirement already satisfied: defusedxml in /Library/Frameworks/Python.framework/Versions/3.11/lib/python3.11/site-packages (from nbconvert>=6.4.4->jupyter-server<3,>=2.4.0->notebook>=4.4.1->widgetsnbextension~=3.6.6->ipywidgets<8,>=7.0.0->keplergl) (0.7.1)\n",
            "Requirement already satisfied: jupyterlab-pygments in /Library/Frameworks/Python.framework/Versions/3.11/lib/python3.11/site-packages (from nbconvert>=6.4.4->jupyter-server<3,>=2.4.0->notebook>=4.4.1->widgetsnbextension~=3.6.6->ipywidgets<8,>=7.0.0->keplergl) (0.2.2)\n",
            "Requirement already satisfied: mistune<4,>=2.0.3 in /Library/Frameworks/Python.framework/Versions/3.11/lib/python3.11/site-packages (from nbconvert>=6.4.4->jupyter-server<3,>=2.4.0->notebook>=4.4.1->widgetsnbextension~=3.6.6->ipywidgets<8,>=7.0.0->keplergl) (3.0.1)\n",
            "Requirement already satisfied: nbclient>=0.5.0 in /Library/Frameworks/Python.framework/Versions/3.11/lib/python3.11/site-packages (from nbconvert>=6.4.4->jupyter-server<3,>=2.4.0->notebook>=4.4.1->widgetsnbextension~=3.6.6->ipywidgets<8,>=7.0.0->keplergl) (0.8.0)\n",
            "Requirement already satisfied: pandocfilters>=1.4.1 in /Library/Frameworks/Python.framework/Versions/3.11/lib/python3.11/site-packages (from nbconvert>=6.4.4->jupyter-server<3,>=2.4.0->notebook>=4.4.1->widgetsnbextension~=3.6.6->ipywidgets<8,>=7.0.0->keplergl) (1.5.0)\n",
            "Requirement already satisfied: tinycss2 in /Library/Frameworks/Python.framework/Versions/3.11/lib/python3.11/site-packages (from nbconvert>=6.4.4->jupyter-server<3,>=2.4.0->notebook>=4.4.1->widgetsnbextension~=3.6.6->ipywidgets<8,>=7.0.0->keplergl) (1.2.1)\n",
            "Requirement already satisfied: fastjsonschema in /Library/Frameworks/Python.framework/Versions/3.11/lib/python3.11/site-packages (from nbformat>=5.3.0->jupyter-server<3,>=2.4.0->notebook>=4.4.1->widgetsnbextension~=3.6.6->ipywidgets<8,>=7.0.0->keplergl) (2.17.1)\n",
            "Requirement already satisfied: charset-normalizer<4,>=2 in /Library/Frameworks/Python.framework/Versions/3.11/lib/python3.11/site-packages (from requests>=2.28->jupyterlab-server<3,>=2.22.1->notebook>=4.4.1->widgetsnbextension~=3.6.6->ipywidgets<8,>=7.0.0->keplergl) (3.1.0)\n",
            "Requirement already satisfied: urllib3<3,>=1.21.1 in /Library/Frameworks/Python.framework/Versions/3.11/lib/python3.11/site-packages (from requests>=2.28->jupyterlab-server<3,>=2.22.1->notebook>=4.4.1->widgetsnbextension~=3.6.6->ipywidgets<8,>=7.0.0->keplergl) (2.0.3)\n",
            "Requirement already satisfied: argon2-cffi-bindings in /Library/Frameworks/Python.framework/Versions/3.11/lib/python3.11/site-packages (from argon2-cffi->jupyter-server<3,>=2.4.0->notebook>=4.4.1->widgetsnbextension~=3.6.6->ipywidgets<8,>=7.0.0->keplergl) (21.2.0)\n",
            "Requirement already satisfied: debugpy>=1.6.5 in /Users/nikanvasei/Library/Python/3.11/lib/python/site-packages (from ipykernel->jupyterlab<5,>=4.0.2->notebook>=4.4.1->widgetsnbextension~=3.6.6->ipywidgets<8,>=7.0.0->keplergl) (1.6.7)\n",
            "Requirement already satisfied: nest-asyncio in /Users/nikanvasei/Library/Python/3.11/lib/python/site-packages (from ipykernel->jupyterlab<5,>=4.0.2->notebook>=4.4.1->widgetsnbextension~=3.6.6->ipywidgets<8,>=7.0.0->keplergl) (1.5.6)\n",
            "Requirement already satisfied: psutil in /Library/Frameworks/Python.framework/Versions/3.11/lib/python3.11/site-packages (from ipykernel->jupyterlab<5,>=4.0.2->notebook>=4.4.1->widgetsnbextension~=3.6.6->ipywidgets<8,>=7.0.0->keplergl) (5.9.5)\n",
            "Requirement already satisfied: webencodings in /Library/Frameworks/Python.framework/Versions/3.11/lib/python3.11/site-packages (from bleach!=5.0.0->nbconvert>=6.4.4->jupyter-server<3,>=2.4.0->notebook>=4.4.1->widgetsnbextension~=3.6.6->ipywidgets<8,>=7.0.0->keplergl) (0.5.1)\n",
            "Requirement already satisfied: fqdn in /Library/Frameworks/Python.framework/Versions/3.11/lib/python3.11/site-packages (from jsonschema[format-nongpl]>=3.2.0->jupyter-events>=0.6.0->jupyter-server<3,>=2.4.0->notebook>=4.4.1->widgetsnbextension~=3.6.6->ipywidgets<8,>=7.0.0->keplergl) (1.5.1)\n",
            "Requirement already satisfied: isoduration in /Library/Frameworks/Python.framework/Versions/3.11/lib/python3.11/site-packages (from jsonschema[format-nongpl]>=3.2.0->jupyter-events>=0.6.0->jupyter-server<3,>=2.4.0->notebook>=4.4.1->widgetsnbextension~=3.6.6->ipywidgets<8,>=7.0.0->keplergl) (20.11.0)\n",
            "Requirement already satisfied: jsonpointer>1.13 in /Library/Frameworks/Python.framework/Versions/3.11/lib/python3.11/site-packages (from jsonschema[format-nongpl]>=3.2.0->jupyter-events>=0.6.0->jupyter-server<3,>=2.4.0->notebook>=4.4.1->widgetsnbextension~=3.6.6->ipywidgets<8,>=7.0.0->keplergl) (2.4)\n",
            "Requirement already satisfied: uri-template in /Library/Frameworks/Python.framework/Versions/3.11/lib/python3.11/site-packages (from jsonschema[format-nongpl]>=3.2.0->jupyter-events>=0.6.0->jupyter-server<3,>=2.4.0->notebook>=4.4.1->widgetsnbextension~=3.6.6->ipywidgets<8,>=7.0.0->keplergl) (1.3.0)\n",
            "Requirement already satisfied: webcolors>=1.11 in /Library/Frameworks/Python.framework/Versions/3.11/lib/python3.11/site-packages (from jsonschema[format-nongpl]>=3.2.0->jupyter-events>=0.6.0->jupyter-server<3,>=2.4.0->notebook>=4.4.1->widgetsnbextension~=3.6.6->ipywidgets<8,>=7.0.0->keplergl) (1.13)\n",
            "Requirement already satisfied: cffi>=1.0.1 in /Library/Frameworks/Python.framework/Versions/3.11/lib/python3.11/site-packages (from argon2-cffi-bindings->argon2-cffi->jupyter-server<3,>=2.4.0->notebook>=4.4.1->widgetsnbextension~=3.6.6->ipywidgets<8,>=7.0.0->keplergl) (1.15.1)\n",
            "Requirement already satisfied: soupsieve>1.2 in /Library/Frameworks/Python.framework/Versions/3.11/lib/python3.11/site-packages (from beautifulsoup4->nbconvert>=6.4.4->jupyter-server<3,>=2.4.0->notebook>=4.4.1->widgetsnbextension~=3.6.6->ipywidgets<8,>=7.0.0->keplergl) (2.4.1)\n",
            "Requirement already satisfied: pycparser in /Library/Frameworks/Python.framework/Versions/3.11/lib/python3.11/site-packages (from cffi>=1.0.1->argon2-cffi-bindings->argon2-cffi->jupyter-server<3,>=2.4.0->notebook>=4.4.1->widgetsnbextension~=3.6.6->ipywidgets<8,>=7.0.0->keplergl) (2.21)\n",
            "Requirement already satisfied: arrow>=0.15.0 in /Library/Frameworks/Python.framework/Versions/3.11/lib/python3.11/site-packages (from isoduration->jsonschema[format-nongpl]>=3.2.0->jupyter-events>=0.6.0->jupyter-server<3,>=2.4.0->notebook>=4.4.1->widgetsnbextension~=3.6.6->ipywidgets<8,>=7.0.0->keplergl) (1.2.3)\n",
            "Note: you may need to restart the kernel to use updated packages.\n"
          ]
        }
      ],
      "source": [
        "%pip install pyrosm keplergl haversine pandas numpy"
      ]
    },
    {
      "cell_type": "code",
      "execution_count": 2,
      "metadata": {
        "id": "SbtVTMtTlmbQ"
      },
      "outputs": [],
      "source": [
        "import datetime\n",
        "import numpy as np\n",
        "import pandas as pd\n",
        "import pyrosm\n",
        "import random\n",
        "import ssl\n",
        "import time\n",
        "\n",
        "from keplergl import KeplerGl\n",
        "from pyrosm import OSM, get_data"
      ]
    },
    {
      "cell_type": "code",
      "execution_count": 3,
      "metadata": {},
      "outputs": [],
      "source": [
        "# If you are using colab, you need to run this cell\n",
        "# from google.colab import output\n",
        "# output.enable_custom_widget_manager()"
      ]
    },
    {
      "cell_type": "markdown",
      "metadata": {},
      "source": [
        "## Introduction\n",
        "In this phase of project, you are going to implement a *denoising algorithm*. In many cases, when an application is dealing with _user GPS location_, in many urban areas and the places with tall towers, the GPS signal gets too noisy! This is the reason of why when you open \"google maps\", you see your current location with a blue circle around it. The radius of this circle shows the accuracy of your location. Sometimes, this radius is around 10m and in other areas, it goes in scale of km, making the GPS location totally unstable and unreliable! This amount of noise makes it impossible to use the data for any kind of analysis. In \"ride hailing\" applications like Uber, many of functionalities rely on the accuracy of GPS data. E.g. ETA estimation (Estimated time of arrival) is highly dependent on the accuracy of GPS data. In this phase, you are going to implement a denoising algorithm to make the GPS data more reliable. You will use your kowledge of Hidden Markov Models to implement this algorithm.\n",
        "\n",
        "<div style=\"text-align: center\">\n",
        "<img src=\"./Images/blue_dot.jpg\" height=\"500\" width=\"auto\" /> </br>\n",
        "(Sample of GPS data with blue dot)\n",
        "</div>"
      ]
    },
    {
      "cell_type": "markdown",
      "metadata": {},
      "source": [
        "# Loading Pasdaran streets dataset"
      ]
    },
    {
      "cell_type": "markdown",
      "metadata": {},
      "source": [
        "In this section, you will load a dataset that is prepared for you. The dataset contains some GPS locations (nodes) from Pasdaran Streets and also another dataset which contains the \"streets\" in Pasdaran area. By \"street\" we mean a pair of nodes, representing two end-points of a street in the map. These datasets are in `Data/` folder with names `pasdaran_streets.csv` and `pasdaran_nodes.csv`."
      ]
    },
    {
      "cell_type": "code",
      "execution_count": 4,
      "metadata": {},
      "outputs": [],
      "source": [
        "# Load the data\n",
        "pasdaran_streets = pd.read_csv(\"datasets/pasdaran_streets.csv\")\n",
        "pasdaran_nodes = pd.read_csv(\"datasets/pasdaran_nodes.csv\")"
      ]
    },
    {
      "cell_type": "code",
      "execution_count": 5,
      "metadata": {},
      "outputs": [
        {
          "data": {
            "text/html": [
              "<div>\n",
              "<style scoped>\n",
              "    .dataframe tbody tr th:only-of-type {\n",
              "        vertical-align: middle;\n",
              "    }\n",
              "\n",
              "    .dataframe tbody tr th {\n",
              "        vertical-align: top;\n",
              "    }\n",
              "\n",
              "    .dataframe thead th {\n",
              "        text-align: right;\n",
              "    }\n",
              "</style>\n",
              "<table border=\"1\" class=\"dataframe\">\n",
              "  <thead>\n",
              "    <tr style=\"text-align: right;\">\n",
              "      <th></th>\n",
              "      <th>street_id</th>\n",
              "      <th>u</th>\n",
              "      <th>v</th>\n",
              "      <th>length</th>\n",
              "      <th>oneway</th>\n",
              "      <th>u_lat</th>\n",
              "      <th>u_lon</th>\n",
              "      <th>v_lat</th>\n",
              "      <th>v_lon</th>\n",
              "    </tr>\n",
              "  </thead>\n",
              "  <tbody>\n",
              "    <tr>\n",
              "      <th>0</th>\n",
              "      <td>5003747</td>\n",
              "      <td>423833948</td>\n",
              "      <td>423793584</td>\n",
              "      <td>90.570</td>\n",
              "      <td>no</td>\n",
              "      <td>35.772419</td>\n",
              "      <td>51.465652</td>\n",
              "      <td>35.771748</td>\n",
              "      <td>51.465084</td>\n",
              "    </tr>\n",
              "    <tr>\n",
              "      <th>1</th>\n",
              "      <td>17099043</td>\n",
              "      <td>177540293</td>\n",
              "      <td>423832815</td>\n",
              "      <td>296.273</td>\n",
              "      <td>yes</td>\n",
              "      <td>35.771034</td>\n",
              "      <td>51.464462</td>\n",
              "      <td>35.772175</td>\n",
              "      <td>51.461494</td>\n",
              "    </tr>\n",
              "    <tr>\n",
              "      <th>2</th>\n",
              "      <td>787945693</td>\n",
              "      <td>4429684144</td>\n",
              "      <td>423832815</td>\n",
              "      <td>62.573</td>\n",
              "      <td>no</td>\n",
              "      <td>35.772636</td>\n",
              "      <td>51.461891</td>\n",
              "      <td>35.772175</td>\n",
              "      <td>51.461494</td>\n",
              "    </tr>\n",
              "    <tr>\n",
              "      <th>3</th>\n",
              "      <td>687277053</td>\n",
              "      <td>177540293</td>\n",
              "      <td>423793585</td>\n",
              "      <td>97.898</td>\n",
              "      <td>no</td>\n",
              "      <td>35.771034</td>\n",
              "      <td>51.464462</td>\n",
              "      <td>35.770317</td>\n",
              "      <td>51.463833</td>\n",
              "    </tr>\n",
              "    <tr>\n",
              "      <th>4</th>\n",
              "      <td>36333153</td>\n",
              "      <td>9339973930</td>\n",
              "      <td>423793585</td>\n",
              "      <td>296.275</td>\n",
              "      <td>yes</td>\n",
              "      <td>35.771458</td>\n",
              "      <td>51.460865</td>\n",
              "      <td>35.770317</td>\n",
              "      <td>51.463833</td>\n",
              "    </tr>\n",
              "  </tbody>\n",
              "</table>\n",
              "</div>"
            ],
            "text/plain": [
              "   street_id           u          v   length oneway      u_lat      u_lon  \\\n",
              "0    5003747   423833948  423793584   90.570     no  35.772419  51.465652   \n",
              "1   17099043   177540293  423832815  296.273    yes  35.771034  51.464462   \n",
              "2  787945693  4429684144  423832815   62.573     no  35.772636  51.461891   \n",
              "3  687277053   177540293  423793585   97.898     no  35.771034  51.464462   \n",
              "4   36333153  9339973930  423793585  296.275    yes  35.771458  51.460865   \n",
              "\n",
              "       v_lat      v_lon  \n",
              "0  35.771748  51.465084  \n",
              "1  35.772175  51.461494  \n",
              "2  35.772175  51.461494  \n",
              "3  35.770317  51.463833  \n",
              "4  35.770317  51.463833  "
            ]
          },
          "execution_count": 5,
          "metadata": {},
          "output_type": "execute_result"
        }
      ],
      "source": [
        "pasdaran_streets.head()"
      ]
    },
    {
      "cell_type": "code",
      "execution_count": 6,
      "metadata": {},
      "outputs": [
        {
          "data": {
            "text/html": [
              "<div>\n",
              "<style scoped>\n",
              "    .dataframe tbody tr th:only-of-type {\n",
              "        vertical-align: middle;\n",
              "    }\n",
              "\n",
              "    .dataframe tbody tr th {\n",
              "        vertical-align: top;\n",
              "    }\n",
              "\n",
              "    .dataframe thead th {\n",
              "        text-align: right;\n",
              "    }\n",
              "</style>\n",
              "<table border=\"1\" class=\"dataframe\">\n",
              "  <thead>\n",
              "    <tr style=\"text-align: right;\">\n",
              "      <th></th>\n",
              "      <th>id</th>\n",
              "      <th>lat</th>\n",
              "      <th>lon</th>\n",
              "    </tr>\n",
              "  </thead>\n",
              "  <tbody>\n",
              "    <tr>\n",
              "      <th>0</th>\n",
              "      <td>423833948</td>\n",
              "      <td>35.772419</td>\n",
              "      <td>51.465652</td>\n",
              "    </tr>\n",
              "    <tr>\n",
              "      <th>1</th>\n",
              "      <td>423793584</td>\n",
              "      <td>35.771748</td>\n",
              "      <td>51.465084</td>\n",
              "    </tr>\n",
              "    <tr>\n",
              "      <th>2</th>\n",
              "      <td>177536927</td>\n",
              "      <td>35.776230</td>\n",
              "      <td>51.465034</td>\n",
              "    </tr>\n",
              "    <tr>\n",
              "      <th>3</th>\n",
              "      <td>177540293</td>\n",
              "      <td>35.771034</td>\n",
              "      <td>51.464462</td>\n",
              "    </tr>\n",
              "    <tr>\n",
              "      <th>4</th>\n",
              "      <td>423832815</td>\n",
              "      <td>35.772175</td>\n",
              "      <td>51.461494</td>\n",
              "    </tr>\n",
              "  </tbody>\n",
              "</table>\n",
              "</div>"
            ],
            "text/plain": [
              "          id        lat        lon\n",
              "0  423833948  35.772419  51.465652\n",
              "1  423793584  35.771748  51.465084\n",
              "2  177536927  35.776230  51.465034\n",
              "3  177540293  35.771034  51.464462\n",
              "4  423832815  35.772175  51.461494"
            ]
          },
          "execution_count": 6,
          "metadata": {},
          "output_type": "execute_result"
        }
      ],
      "source": [
        "pasdaran_nodes.head()"
      ]
    },
    {
      "cell_type": "code",
      "execution_count": 7,
      "metadata": {},
      "outputs": [
        {
          "name": "stdout",
          "output_type": "stream",
          "text": [
            "User Guide: https://docs.kepler.gl/docs/keplergl-jupyter\n"
          ]
        },
        {
          "data": {
            "application/vnd.jupyter.widget-view+json": {
              "model_id": "9a235722c588473c9aa19b28cf0e8491",
              "version_major": 2,
              "version_minor": 0
            },
            "text/plain": [
              "KeplerGl(data={'pasdaran_streets':        street_id            u            v   length oneway      u_lat  \\\n",
              "0 …"
            ]
          },
          "metadata": {},
          "output_type": "display_data"
        }
      ],
      "source": [
        "# Visualize pasdaran_streets using kepler\n",
        "visualized_map = KeplerGl(height=400, data = {\"pasdaran_streets\": pasdaran_streets})\n",
        "visualized_map"
      ]
    },
    {
      "cell_type": "markdown",
      "metadata": {
        "id": "osSfUikvvQ6Q"
      },
      "source": [
        "# Creating dataset for trip"
      ]
    },
    {
      "cell_type": "markdown",
      "metadata": {
        "id": "HR3QM8DKvWWt"
      },
      "source": [
        "As you understood, until now, we loaded 2 datasets, `pasdaran_nodes` and `pasdaran_streets`. Now, we should create a dataset from these, such that we can use it for our trip. Each item in this dataset is called a `ride`. We will explain more as we go on."
      ]
    },
    {
      "cell_type": "markdown",
      "metadata": {},
      "source": [
        "First, we should create a **trip** for a driver. For this sake, we should choose 2 random points in our map as the source and destination of the trip. Now, we should find the streets that connect these 2 points. Each street has a length. You should find the shortest path between these 2 points (source and destination) which are in the `pasdaran_streets`. Note that this path should be the **shortest path** meaning that the sum of the lengths of streets should be minimum.\n",
        "\n",
        "**NOTE**: You cannot use any library for finding the shortest path. You should implement it yourself, from scratch. Feel free to use any algorithm and heuristic that you want. Be creative!\n",
        "\n",
        "**NOTE**: Be aware of \"length of streets\" and whether or not they are \"one_way\"!"
      ]
    },
    {
      "cell_type": "code",
      "execution_count": 8,
      "metadata": {
        "id": "w909XhNelmbT"
      },
      "outputs": [],
      "source": [
        "import heapq\n",
        "\n",
        "def get_node_id(pos, graph):\n",
        "    u_node = graph.loc[(graph[\"u_lat\"] == pos[0]) & (graph[\"u_lon\"] == pos[1])].to_numpy()\n",
        "    v_node = graph.loc[(graph[\"v_lat\"] == pos[0]) & (graph[\"v_lon\"] == pos[1])].to_numpy()\n",
        "    if len(u_node) > 0:\n",
        "        return u_node[0][1]\n",
        "    else:\n",
        "        return v_node[0][2]\n",
        "\n",
        "def get_neighbors(node, graph):\n",
        "    nodes_to = graph.loc[(graph[\"u\"] == node)].to_numpy()\n",
        "    nodes_from = graph.loc[(graph[\"v\"] == node)].to_numpy()\n",
        "    return [(row[2], row[3]) for row in nodes_to] + [(row[1], row[3]) for row in nodes_from]\n",
        "\n",
        "def backtrack(curr_node, parents):\n",
        "    return [curr_node] if parents[curr_node] is None else backtrack(parents[curr_node], parents) + [curr_node]\n",
        "\n",
        "def find_shortest_path(start_node, end_node, graph):\n",
        "    \"\"\"\n",
        "    Find the shortest path between two nodes in a graph.\n",
        "    :param start_node: The start node\n",
        "    :param end_node: The end node\n",
        "    :param graph: The graph\n",
        "    :return: The shortest path. It is a list of node_ids from start_node to end_node.\n",
        "    Note that you use all of the data in \"pasdaran_streets\" dataset appropriately such as \"street_length\" and \"one_way\".\n",
        "    \"\"\"\n",
        "    start_node_id = get_node_id(start_node, graph)\n",
        "    end_node_id = get_node_id(end_node, graph)\n",
        "    heap = []\n",
        "    costs = {}\n",
        "    parents = {}\n",
        "    route = []\n",
        "    \n",
        "    heapq.heappush(heap, (0, start_node_id))\n",
        "    costs[start_node_id] = 0\n",
        "    parents[start_node_id] = None\n",
        "    \n",
        "    while heap:\n",
        "        _, curr_node = heapq.heappop(heap)\n",
        "        if curr_node == end_node_id:\n",
        "            route = backtrack(curr_node, parents)\n",
        "            break\n",
        "        for neighbor, distance in get_neighbors(curr_node, graph):\n",
        "            if neighbor not in costs or costs[neighbor] > costs[curr_node] + distance:\n",
        "                costs[neighbor] = costs[curr_node] + distance\n",
        "                parents[neighbor] = curr_node\n",
        "                heapq.heappush(heap, (costs[neighbor], neighbor))\n",
        "    \n",
        "    return route"
      ]
    },
    {
      "cell_type": "markdown",
      "metadata": {},
      "source": [
        "You should **upload** this cell (`find_shortest_path` function) as a .py file to quera. Your code will be verified if it is actually finding the shortest path and only if it's correct, you will get the grades of this section. Be sure that you put the approriate `import ...` statements at the first of your `.py` file. Remember, you **can not** use any library that does the \"shortest path\" for you. (like networkx) You should implement it yourself.\n",
        "\n",
        "**Note**: You can add other functions and codes to above cell, but you code should have the `find_shortest_path` function with exactly same signature that we have provided. Your code will be tested with calling this function. So, using other functions is not a problem, but keep in mind that the main entry for your code when we test it is the `find_shortest_path` function. Nothing else!"
      ]
    },
    {
      "cell_type": "code",
      "execution_count": 9,
      "metadata": {},
      "outputs": [
        {
          "data": {
            "text/plain": [
              "[4379726016,\n",
              " 4695667393,\n",
              " 806589358,\n",
              " 4695818010,\n",
              " 4695818011,\n",
              " 423832591,\n",
              " 4695882306,\n",
              " 423832592,\n",
              " 4695924440,\n",
              " 4695924438,\n",
              " 4695969091,\n",
              " 4695924428,\n",
              " 4695969093,\n",
              " 423832593,\n",
              " 4316456836,\n",
              " 4316456842,\n",
              " 4695969096]"
            ]
          },
          "execution_count": 9,
          "metadata": {},
          "output_type": "execute_result"
        }
      ],
      "source": [
        "# Create a trip: Choose 2 random points as start and end points and find the shortest path between them.\n",
        "# A trip is a list of node_ids from start_node to end_node.\n",
        "\n",
        "possible_nodes = [(row[0], row[1]) for row in pasdaran_streets[[\"u_lat\", \"u_lon\"]].to_numpy()]\n",
        "for row in pasdaran_streets[[\"v_lat\", \"v_lon\"]].to_numpy():\n",
        "    possible_nodes.append((row[0], row[1]))\n",
        "\n",
        "random_nodes = np.random.choice(len(possible_nodes), 2, replace=False)\n",
        "start_node = possible_nodes[random_nodes[0]]\n",
        "end_node = possible_nodes[random_nodes[1]]\n",
        "\n",
        "trip = find_shortest_path(start_node, end_node, pasdaran_streets)\n",
        "trip"
      ]
    },
    {
      "cell_type": "markdown",
      "metadata": {
        "id": "YP2kS2GHx02G"
      },
      "source": [
        "Visualize the sampled trip (in the previous cell) on the map. Use `kepler` library for this purpose. Notice that you use keplers \"timestep\" attributes to create a timeline, so you can see the trip's process from _start\\_node_ to _end\\_node_. (You can see an output sample in the next cell)"
      ]
    },
    {
      "cell_type": "code",
      "execution_count": 10,
      "metadata": {
        "colab": {
          "base_uri": "https://localhost:8080/",
          "height": 511
        },
        "id": "kWhW3mIizZ0_",
        "outputId": "1a3319b9-fac1-42ef-e666-8072a9e6ab5f"
      },
      "outputs": [
        {
          "name": "stdout",
          "output_type": "stream",
          "text": [
            "User Guide: https://docs.kepler.gl/docs/keplergl-jupyter\n"
          ]
        },
        {
          "data": {
            "application/vnd.jupyter.widget-view+json": {
              "model_id": "d8a00272af2d41f29bd9706a69d16e2b",
              "version_major": 2,
              "version_minor": 0
            },
            "text/plain": [
              "KeplerGl(data={'trip':               id        lat        lon\n",
              "5     4316456842  35.774864  51.456291\n",
              "6     431…"
            ]
          },
          "metadata": {},
          "output_type": "display_data"
        }
      ],
      "source": [
        "trip_df = pasdaran_nodes.loc[pasdaran_nodes[\"id\"].isin(trip)]\n",
        "visualized_trip = KeplerGl(height=400, data = {\"trip\": trip_df})\n",
        "visualized_trip"
      ]
    },
    {
      "cell_type": "markdown",
      "metadata": {
        "id": "2GRdEUrF7EgN"
      },
      "source": [
        "Now, we are going to get the points in the middle of the streets. Before, we only had the intersections of the streets(start and end nodes of a section). But we know in real life, we get gps locations also in between and not necessarily in the intersections. So, we should add these points to our data. We call every entity of this type as `Ride`. A ride is defined by 3 parameters:\n",
        "1. `ride_speed`: The speed of the ride which driver is driving with. We assume that the driver is driving with a constant speed.\n",
        "2. `driver_gps_time`: The time interval that the driver sends his/her gps location to the server. (e.g. every 5 seconds)\n",
        "3. `trip`: The specific trip that the driver is driving in. (we created this in the previous cells)\n",
        "\n",
        "Now, you should define a function that gets these parameters and returns the locations (lat/longs) in the ride regarding the given parameters."
      ]
    },
    {
      "cell_type": "code",
      "execution_count": 11,
      "metadata": {
        "id": "WSkJzEmelmbU"
      },
      "outputs": [],
      "source": [
        "def get_street_distance(id1, id2):\n",
        "    street = pasdaran_streets.loc[(pasdaran_streets[\"u\"] == id1) & (pasdaran_streets[\"v\"] == id2)].to_numpy()\n",
        "    if len(street) > 0:\n",
        "        return street[0][3]\n",
        "    else:\n",
        "        return pasdaran_streets.loc[(pasdaran_streets[\"u\"] == id2) & (pasdaran_streets[\"v\"] == id1)].to_numpy()[0][3]\n",
        "\n",
        "def get_lat_lon(id):\n",
        "    node = pasdaran_streets.loc[pasdaran_streets[\"u\"] == id].to_numpy()\n",
        "    if len(node) > 0:\n",
        "        return (node[0][5], node[0][6])\n",
        "    else:\n",
        "        node = pasdaran_streets.loc[(pasdaran_streets[\"v\"] == id)].to_numpy()[0]\n",
        "        return (node[7], node[8])\n",
        "\n",
        "def visualize_a_ride(ride_speed, ride_gps_time, trip):\n",
        "    remaining_time = ride_gps_time\n",
        "    street_dist = get_street_distance(trip[0], trip[1])\n",
        "    lat1, lon1 = get_lat_lon(trip[0])\n",
        "    lat2, lon2 = get_lat_lon(trip[1])\n",
        "    ride = [(lat1, lon1)]\n",
        "    i = 2\n",
        "    while (i <= len(trip)):\n",
        "        if (ride_speed * remaining_time) <= street_dist:\n",
        "            node_mid = (lat1 + (lat2 - lat1) * (ride_speed * remaining_time) / street_dist, lon1 + (lon2 - lon1) * (ride_speed * remaining_time) / street_dist)\n",
        "            ride.append(node_mid)\n",
        "            lat1, lon1 = node_mid\n",
        "            street_dist -= ride_speed * remaining_time\n",
        "            remaining_time = ride_gps_time\n",
        "        else:\n",
        "            ride.append((lat2, lon2))\n",
        "            if (i == len(trip)):\n",
        "                break\n",
        "            lat1, lon1 = lat2, lon2\n",
        "            lat2, lon2 = get_lat_lon(trip[i])\n",
        "            remaining_time -= street_dist / ride_speed\n",
        "            street_dist = get_street_distance(trip[i-1], trip[i])\n",
        "            i += 1\n",
        "    \n",
        "    return ride    "
      ]
    },
    {
      "cell_type": "markdown",
      "metadata": {
        "id": "WuXoo-N37JS8"
      },
      "source": [
        "See a sample ride, printed out."
      ]
    },
    {
      "cell_type": "code",
      "execution_count": 12,
      "metadata": {
        "colab": {
          "base_uri": "https://localhost:8080/"
        },
        "id": "dMtD7q7TlmbU",
        "outputId": "0842e970-ff9a-492a-d0aa-31c44f8a6103"
      },
      "outputs": [
        {
          "data": {
            "text/plain": [
              "[(35.76731872558594, 51.4515495300293),\n",
              " (35.76698684692383, 51.45262908935547),\n",
              " (35.76752853393555, 51.45288848876953),\n",
              " (35.76779080115538, 51.453012085965085),\n",
              " (35.767860412597656, 51.45304489135742),\n",
              " (35.76814651489258, 51.45318222045898),\n",
              " (35.768798828125, 51.4534912109375),\n",
              " (35.76935958862305, 51.453758239746094),\n",
              " (35.76946886715265, 51.45381004060753),\n",
              " (35.77053451538086, 51.45431518554688),\n",
              " (35.77115054901666, 51.45459626553279),\n",
              " (35.77153778076172, 51.45477294921875),\n",
              " (35.77192687988281, 51.45495223999024),\n",
              " (35.77205276489258, 51.45500946044922),\n",
              " (35.772605895996094, 51.45526123046875),\n",
              " (35.77283681984378, 51.45536752874785),\n",
              " (35.77308654785156, 51.45548248291016),\n",
              " (35.77321243286133, 51.45553970336914),\n",
              " (35.77397537231445, 51.45588684082031),\n",
              " (35.774523836488, 51.456136356710424),\n",
              " (35.774864196777344, 51.45629119873047),\n",
              " (35.774658203125, 51.45696258544922)]"
            ]
          },
          "execution_count": 12,
          "metadata": {},
          "output_type": "execute_result"
        }
      ],
      "source": [
        "ride = visualize_a_ride(ride_speed=10, ride_gps_time=20, trip=trip)\n",
        "ride"
      ]
    },
    {
      "cell_type": "markdown",
      "metadata": {
        "id": "_Bi1o_2o7Q3r"
      },
      "source": [
        "Visualize the sample ride on the map using `kepler` library. You should define an animation based on the order of the points in the ride, so you can play the animation in the visualization and see the ride!"
      ]
    },
    {
      "cell_type": "code",
      "execution_count": 13,
      "metadata": {
        "colab": {
          "base_uri": "https://localhost:8080/",
          "height": 511
        },
        "id": "lSqTVxIqlmbU",
        "outputId": "7835933e-d766-4b60-ed5e-732ed19fdd77"
      },
      "outputs": [
        {
          "name": "stdout",
          "output_type": "stream",
          "text": [
            "User Guide: https://docs.kepler.gl/docs/keplergl-jupyter\n"
          ]
        },
        {
          "data": {
            "application/vnd.jupyter.widget-view+json": {
              "model_id": "3ed1d63c99d54d2d9805072adb940149",
              "version_major": 2,
              "version_minor": 0
            },
            "text/plain": [
              "KeplerGl(data={'ride':           lat        lon\n",
              "0   35.767319  51.451550\n",
              "1   35.766987  51.452629\n",
              "2   35.76752…"
            ]
          },
          "metadata": {},
          "output_type": "display_data"
        }
      ],
      "source": [
        "ride_df = pd.DataFrame(ride, columns=[\"lat\", \"lon\"])\n",
        "visualized_ride = KeplerGl(height=400, data = {\"ride\": ride_df})\n",
        "visualized_ride"
      ]
    },
    {
      "cell_type": "markdown",
      "metadata": {
        "id": "DMixk41z8Zil"
      },
      "source": [
        "Now, to complete our dataset, we need to put some random noise on the gps locations. For this sake, we easily add some random noise to the lat/longs of a created `ride`. You should define a function that gets a `ride` and adds some random noise to the lat/longs of the ride. Your function should take in 2 parameters: _ride_ and _gps\\_noise\\_radius_ which is the radius of the circle that you want to add noise to the gps locations. (e.g. 10 meters). The gps noise in assumed to be a normal distribution. So, assume `standard deviation` of the noise to be `gps_noise_radius`."
      ]
    },
    {
      "cell_type": "code",
      "execution_count": 14,
      "metadata": {
        "colab": {
          "base_uri": "https://localhost:8080/"
        },
        "id": "-ghTr5-IlmbU",
        "outputId": "69044cc2-556d-4ee2-93aa-b05ed36e9444"
      },
      "outputs": [
        {
          "data": {
            "text/plain": [
              "[(35.76731264277909, 51.451519556165195),\n",
              " (35.76703401719497, 51.45268603378905),\n",
              " (35.76747170558883, 51.45278789084566),\n",
              " (35.76779761541302, 51.452986823535916),\n",
              " (35.767767398185505, 51.45305248059718),\n",
              " (35.76809401558752, 51.45315982413787),\n",
              " (35.76882664191779, 51.45344619096785),\n",
              " (35.76938112920629, 51.453880833848864),\n",
              " (35.769425238028056, 51.453734191221486),\n",
              " (35.770615813093826, 51.45426632585004),\n",
              " (35.77116354436003, 51.45462019106658),\n",
              " (35.77152035143293, 51.45479980868114),\n",
              " (35.77190391303135, 51.45491327396017),\n",
              " (35.772066604340644, 51.45510005498924),\n",
              " (35.77254815771782, 51.455218027744756),\n",
              " (35.77277675660455, 51.45525735675372),\n",
              " (35.7731809294132, 51.455454393261796),\n",
              " (35.77321069064778, 51.45559726065071),\n",
              " (35.77393122552434, 51.45586679877067),\n",
              " (35.77448369926593, 51.45626131131975),\n",
              " (35.77487666394436, 51.45629498289904),\n",
              " (35.7745821706526, 51.45689669493934)]"
            ]
          },
          "execution_count": 14,
          "metadata": {},
          "output_type": "execute_result"
        }
      ],
      "source": [
        "# put a random noise on each (lat, lon) location to simulate the GPS noise (suppose GPS radius is 3 - 8 meters)\n",
        "# Print out a sample\n",
        "def add_normal_noise(pos, gps_noise_radius):\n",
        "    noise_lat = np.random.normal(loc=0, scale=gps_noise_radius) \n",
        "    noise_lon = np.random.normal(loc=0, scale=gps_noise_radius)\n",
        "    \n",
        "    return pos[0] + noise_lat / 111000, pos[1] + noise_lon / 111000\n",
        "\n",
        "noisy_ride = [add_normal_noise(pos, 5) for pos in ride]\n",
        "noisy_ride"
      ]
    },
    {
      "cell_type": "markdown",
      "metadata": {},
      "source": [
        "### Different noise models\n",
        "Experiment adding noise to rides using different models (PDFs) of noise. For example, you can use a uniform distribution for noise. Or you can use a normal distribution for noise. Or you can use a mixture of different distributions. You can also use a distribution that is dependent on the speed of the ride.\n",
        "1. Visualize each noise model (PDF) on a plot. (You can use `matplotlib` library for this purpose)\n",
        "2. Visualize the rides with different noise models on the map. (You can use `kepler` library for this purpose)\n",
        "3. Compare the results of different noise models. Which one is more descriptive of the real world? Why?\n",
        "4. Choose one model that you find appropriate for training your HMM on it. We will use that model for the rest of the project."
      ]
    },
    {
      "cell_type": "code",
      "execution_count": 15,
      "metadata": {},
      "outputs": [],
      "source": [
        "def add_normal_noise(pos, gps_noise_radius):\n",
        "    noise_lat = np.random.normal(loc=0, scale=gps_noise_radius) \n",
        "    noise_lon = np.random.normal(loc=0, scale=gps_noise_radius)\n",
        "    return pos[0] + noise_lat / 111000, pos[1] + noise_lon / 111000\n",
        "\n",
        "def add_uniform_noise(pos, gps_noise_radius):\n",
        "    noise_lat = np.random.uniform(low=-gps_noise_radius, high=gps_noise_radius) \n",
        "    noise_lon = np.random.uniform(low=-gps_noise_radius, high=gps_noise_radius)\n",
        "    return pos[0] + noise_lat / 111000, pos[1] + noise_lon / 111000\n",
        "\n",
        "def add_speed_dependent_noise(pos, gps_noise_radius, speed):\n",
        "    gps_noise_radius += speed / 10\n",
        "    noise_lat = np.random.normal(loc=0, scale=gps_noise_radius) \n",
        "    noise_lon = np.random.normal(loc=0, scale=gps_noise_radius)\n",
        "    return pos[0] + noise_lat / 111000, pos[1] + noise_lon / 111000"
      ]
    },
    {
      "cell_type": "code",
      "execution_count": 16,
      "metadata": {},
      "outputs": [
        {
          "data": {
            "image/png": "[encoded data removed]",
            "text/plain": [
              "<Figure size 1500x500 with 3 Axes>"
            ]
          },
          "metadata": {},
          "output_type": "display_data"
        }
      ],
      "source": [
        "import matplotlib.pyplot as plt\n",
        "\n",
        "num_samples = 10000\n",
        "normal_samples = [add_normal_noise((0, 0), 5)[0] for _ in range(num_samples)]\n",
        "uniform_samples = [add_uniform_noise((0, 0), 5)[0] for _ in range(num_samples)]\n",
        "speed_dependent_samples = [add_speed_dependent_noise((0, 0), 5, 10)[0] for _ in range(num_samples)]\n",
        "\n",
        "fig, axes = plt.subplots(1, 3, figsize=(15, 5))\n",
        "axes[0].hist(normal_samples, bins=50, density=True, alpha=0.7, color='orange')\n",
        "axes[0].set_title(\"Normal Noise\")\n",
        "plt.setp(axes.flatten()[0].get_xticklabels(), rotation=30, horizontalalignment='right')\n",
        "\n",
        "axes[1].hist(uniform_samples, bins=50, density=True, alpha=0.7, color='orange')\n",
        "axes[1].set_title(\"Uniform Noise\")\n",
        "plt.setp(axes.flatten()[1].get_xticklabels(), rotation=30, horizontalalignment='right')\n",
        "\n",
        "axes[2].hist(speed_dependent_samples, bins=50, density=True, alpha=0.7, color='orange')\n",
        "axes[2].set_title(\"Speed-dependent Noise\")\n",
        "plt.setp(axes.flatten()[2].get_xticklabels(), rotation=30, horizontalalignment='right')\n",
        "\n",
        "fig.tight_layout()"
      ]
    },
    {
      "cell_type": "code",
      "execution_count": 17,
      "metadata": {},
      "outputs": [
        {
          "name": "stdout",
          "output_type": "stream",
          "text": [
            "User Guide: https://docs.kepler.gl/docs/keplergl-jupyter\n"
          ]
        },
        {
          "data": {
            "application/vnd.jupyter.widget-view+json": {
              "model_id": "4909873a1213479d9459afdc00825c36",
              "version_major": 2,
              "version_minor": 0
            },
            "text/plain": [
              "KeplerGl(data={'noisy_ride_normal_df':           lat        lon\n",
              "0   35.767275  51.451571\n",
              "1   35.767088  51.452…"
            ]
          },
          "metadata": {},
          "output_type": "display_data"
        }
      ],
      "source": [
        "noisy_ride_normal = [add_normal_noise(pos, 5) for pos in ride]\n",
        "noisy_ride_uniform = [add_uniform_noise(pos, 5) for pos in ride]\n",
        "noisy_ride_speed_dependent = [add_speed_dependent_noise(pos, 5, speed=10) for pos in ride]\n",
        "\n",
        "noisy_ride_normal_df = pd.DataFrame(noisy_ride_normal, columns=[\"lat\", \"lon\"])\n",
        "noisy_ride_uniform_df = pd.DataFrame(noisy_ride_uniform, columns=[\"lat\", \"lon\"])\n",
        "noisy_ride_speed_dependent_df = pd.DataFrame(noisy_ride_speed_dependent, columns=[\"lat\", \"lon\"])\n",
        "\n",
        "visualized_noisy_rides = KeplerGl(height=400, data = {\"noisy_ride_normal_df\": noisy_ride_normal_df,\n",
        "                                                      \"noisy_ride_uniform_df\": noisy_ride_uniform_df,\n",
        "                                                      \"noisy_ride_speed_dependent_df\": noisy_ride_speed_dependent_df})\n",
        "visualized_noisy_rides"
      ]
    },
    {
      "cell_type": "code",
      "execution_count": 18,
      "metadata": {},
      "outputs": [],
      "source": [
        "noise_model = add_speed_dependent_noise"
      ]
    },
    {
      "cell_type": "markdown",
      "metadata": {},
      "source": [
        "**Explanation of my noise model:**\n",
        "\n",
        "I think the normal dist. with speed dependency is the best model and is the closest one to the real world.\n",
        "First of all, our noise dist. should have more points near the real GPS location, so the uniform dist. is not a good approximation.\n",
        "Also the faster the driver rides, the noisier its GPS location gets, so we should put the effects of ride_speed in our distribution.\n",
        "So overall the normal dist. which is speed dependent would be a good approximation."
      ]
    },
    {
      "cell_type": "markdown",
      "metadata": {
        "id": "ijwtglf39JyI"
      },
      "source": [
        "Visualize a sample `ride` and its corresponding `noisy_ride` (using your selected noise model) on the map."
      ]
    },
    {
      "cell_type": "code",
      "execution_count": 19,
      "metadata": {
        "colab": {
          "base_uri": "https://localhost:8080/",
          "height": 511
        },
        "id": "abyNFZqElmbV",
        "outputId": "b811a58a-6289-406e-afd7-c96e8c1d20b2"
      },
      "outputs": [
        {
          "name": "stdout",
          "output_type": "stream",
          "text": [
            "User Guide: https://docs.kepler.gl/docs/keplergl-jupyter\n"
          ]
        },
        {
          "data": {
            "application/vnd.jupyter.widget-view+json": {
              "model_id": "756ea37b78204bafb617c56181486c1e",
              "version_major": 2,
              "version_minor": 0
            },
            "text/plain": [
              "KeplerGl(data={'ride':           lat        lon\n",
              "0   35.767319  51.451550\n",
              "1   35.766987  51.452629\n",
              "2   35.76752…"
            ]
          },
          "metadata": {},
          "output_type": "display_data"
        }
      ],
      "source": [
        "ride = visualize_a_ride(ride_speed=10, ride_gps_time=20, trip=trip)\n",
        "noisy_ride = [noise_model(pos, 5, 10) for pos in ride]\n",
        "\n",
        "ride_df = pd.DataFrame(ride, columns=[\"lat\", \"lon\"])\n",
        "noisy_ride_df = pd.DataFrame(noisy_ride, columns=[\"lat\", \"lon\"])\n",
        "\n",
        "visualized_ride_vs_noisy_ride = KeplerGl(height=400, data = {\"ride\": ride_df,\n",
        "                                                      \"noisy_ride\": noisy_ride_df})\n",
        "visualized_ride_vs_noisy_ride"
      ]
    },
    {
      "cell_type": "markdown",
      "metadata": {
        "id": "PrNNSj6x-DWd"
      },
      "source": [
        "Now, we create our dataset, We create 20 noisy_rides for each trip."
      ]
    },
    {
      "cell_type": "code",
      "execution_count": 20,
      "metadata": {
        "id": "FxA8kZXP-DHE"
      },
      "outputs": [],
      "source": [
        "possible_nodes = [(row[0], row[1]) for row in pasdaran_streets[[\"u_lat\", \"u_lon\"]].to_numpy()]\n",
        "for row in pasdaran_streets[[\"v_lat\", \"v_lon\"]].to_numpy():\n",
        "    possible_nodes.append((row[0], row[1]))\n",
        "\n",
        "random_nodes = np.random.choice(len(possible_nodes), 40, replace=False)\n",
        "start_nodes = [possible_nodes[random_nodes[i * 2]] for i in range(20)]\n",
        "end_nodes = [possible_nodes[random_nodes[i * 2 + 1]] for i in range(20)]\n",
        "\n",
        "trips = [find_shortest_path(start_nodes[i], end_nodes[i], pasdaran_streets) for i in range(20)]\n",
        "rides = [visualize_a_ride(ride_speed=np.random.randint(1, 20), ride_gps_time=np.random.randint(10, 20), trip=trips[i]) for i in range(20)]\n",
        "noisy_rides = [[noise_model(pos, 5, 10) for pos in ride] for ride in rides]"
      ]
    },
    {
      "cell_type": "markdown",
      "metadata": {
        "id": "labjTZ3hivDJ"
      },
      "source": [
        "# HMM"
      ]
    },
    {
      "cell_type": "markdown",
      "metadata": {},
      "source": [
        "In this section, we want to use the dataset that we created in the previous section to train an HMM model. We want to use HMM models to  **denoise** the gps locations of the rides. We assume that the gps locations of the rides are noisy and we want to denoise them using HMM models. The observations in each _timestamp_ are the observed noisy points in the dataset."
      ]
    },
    {
      "cell_type": "markdown",
      "metadata": {},
      "source": [
        "You should implement a class (or function) named HMM which gets the noisy observations and the `streets` of the map (of course, this is not noisy. we saw that as `pasdaran_streets` in the previous section). You should calculate the transition matrix and emission matrix of the HMM model. You should also implement the `viterbi` algorithm to find the most probable sequence of hidden states (which are the points in the streets) given the noisy observations. Finally, your implementation should be capable of returning the denoised gps locations of the rides. Note that how you define your features, and your states. Be creative!"
      ]
    },
    {
      "cell_type": "code",
      "execution_count": 21,
      "metadata": {
        "colab": {
          "base_uri": "https://localhost:8080/"
        },
        "id": "eljM3-Z6SV8k",
        "outputId": "7947e14a-11af-482c-b872-50ae5e11d988"
      },
      "outputs": [],
      "source": [
        "def calc_distance_between_point_line(point, u, v):\n",
        "    if np.dot(v - u, point - u) < 0:\n",
        "        return np.linalg.norm(point - u)\n",
        "    elif np.dot(v - u, point - v) > 0:\n",
        "        return np.linalg.norm(point - v)\n",
        "    return abs(np.cross(v - u, point - u)) / np.linalg.norm(v - u)\n",
        "\n",
        "def normal_speed_dependent_pdf(x, mean, std, speed):\n",
        "    std += speed / 10\n",
        "    return np.exp(-((x - mean) ** 2) / (2 * (std ** 2))) / (std * np.sqrt(2 * np.pi))"
      ]
    },
    {
      "cell_type": "code",
      "execution_count": 22,
      "metadata": {
        "colab": {
          "base_uri": "https://localhost:8080/"
        },
        "id": "2uPqUJzZZh7Q",
        "outputId": "52638369-e8d8-4501-970c-f1b427f85313"
      },
      "outputs": [],
      "source": [
        "# Define your HMM model\n",
        "# Hint: You can assume states of your HMM model to be streets of the map. You may use other designs as well (based on your creativity)!\n",
        "\n",
        "class HMM:\n",
        "    def __init__(self, pasdaran_streets, observations):\n",
        "        self.states = pasdaran_streets\n",
        "        self.num_states = len(pasdaran_streets)\n",
        "        self.observations = observations\n",
        "        self.num_observations = len(observations)\n",
        "        self.transition_matrix = np.zeros((self.num_states, self.num_states))\n",
        "        self.emission_matrix = np.zeros((self.num_states, len(observations)))\n",
        "        self.build_emissions_matrix()\n",
        "    \n",
        "    def build_emissions_matrix(self):\n",
        "        for i in range(self.num_states):\n",
        "            for j in range(self.num_observations):\n",
        "                street = self.states.to_numpy()[i]\n",
        "                u, v = (street[5], street[6]), (street[7], street[8])\n",
        "                distance = calc_distance_between_point_line(np.array(self.observations[j]), np.array(u), np.array(v))\n",
        "                prob = normal_speed_dependent_pdf(distance, 0, 5, 10)\n",
        "                self.emission_matrix[i][j] = prob\n",
        "    \n",
        "    def get_points_along_street(self, point, state):\n",
        "        street = self.states.to_numpy()[state]\n",
        "        u, v = (street[5], street[6]), (street[7], street[8])\n",
        "        \n",
        "        if u[0] == v[0]:\n",
        "            return u[0], point[1] \n",
        "        elif u[1] == v[1]:\n",
        "            return point[0], u[1]\n",
        "        else:\n",
        "            a1 = (u[1] - v[1]) / (u[0] - v[0])\n",
        "            b1 = u[1] - a1 * u[0]\n",
        "            a2 = -1 / a1\n",
        "            b2 = point[1] - a2 * point[0]\n",
        "            project_x = (b2 - b1) / (a1 - a2)\n",
        "            project_y = a1 * project_x + b1\n",
        "            return project_x, project_y"
      ]
    },
    {
      "cell_type": "code",
      "execution_count": 23,
      "metadata": {},
      "outputs": [],
      "source": [
        "# Use Viterbi Algorithm to find the most probable set of points (denoised points)\n",
        "\n",
        "def viterbi(hmm):\n",
        "    num_states = hmm.num_states\n",
        "    num_observations = hmm.num_observations\n",
        "    \n",
        "    m = np.zeros((num_states, num_observations))\n",
        "    backtrack = np.zeros((num_states, num_observations), dtype=int)\n",
        "    \n",
        "    for i in range(num_states):\n",
        "        m[i, 0] = hmm.emission_matrix[i, 0] / num_states\n",
        "        \n",
        "    for i in range(1, num_observations):\n",
        "        for j in range(num_states):\n",
        "            prev_m = [m[k, i - 1] * 1 / num_samples for k in range(num_states)]\n",
        "            m[j, i] = np.max(prev_m) * hmm.emission_matrix[j, i]\n",
        "            backtrack[j, i] = np.argmax(prev_m)\n",
        "            \n",
        "    best_path = []\n",
        "    curr_state = np.argmax(m[:, -1])\n",
        "    for i in range(num_observations):\n",
        "        best_path.append(curr_state)\n",
        "        curr_state = backtrack[curr_state, num_observations - 1 - i]\n",
        "\n",
        "    nodes = []    \n",
        "    for i, state in enumerate(best_path[::-1]):\n",
        "        nodes.append(hmm.get_points_along_street(hmm.observations[i], state))\n",
        "        \n",
        "    return nodes"
      ]
    },
    {
      "cell_type": "markdown",
      "metadata": {},
      "source": [
        "Visualize a sample denoised _ride_ using your HMM model. Put `original_points` and `denoised_points` on the map. Use different colors for each of them to make them distinct from eachother. You should use `kepler` library for this purpose."
      ]
    },
    {
      "cell_type": "code",
      "execution_count": 25,
      "metadata": {},
      "outputs": [
        {
          "name": "stdout",
          "output_type": "stream",
          "text": [
            "User Guide: https://docs.kepler.gl/docs/keplergl-jupyter\n"
          ]
        },
        {
          "data": {
            "application/vnd.jupyter.widget-view+json": {
              "model_id": "7a0b1511ebbd4b56befe7902635e95d3",
              "version_major": 2,
              "version_minor": 0
            },
            "text/plain": [
              "KeplerGl(data={'noisy_ride_df':           lat        lon\n",
              "0   35.779445  51.458259\n",
              "1   35.779798  51.457303\n",
              "2  …"
            ]
          },
          "metadata": {},
          "output_type": "display_data"
        }
      ],
      "source": [
        "hmm = HMM(pasdaran_streets, noisy_rides[0])\n",
        "denoised = viterbi(hmm)\n",
        "\n",
        "noisy_ride_df = pd.DataFrame(noisy_rides[0], columns=[\"lat\", \"lon\"])\n",
        "denoised_ride_df = pd.DataFrame(denoised, columns=[\"lat\", \"lon\"])\n",
        "\n",
        "visualized_denoised_ride = KeplerGl(height=400, data = {\"noisy_ride_df\": noisy_ride_df,\n",
        "                                                      \"denoised_ride_df\": denoised_ride_df})\n",
        "visualized_denoised_ride"
      ]
    },
    {
      "cell_type": "markdown",
      "metadata": {},
      "source": [
        "# Testing your model"
      ]
    },
    {
      "cell_type": "markdown",
      "metadata": {},
      "source": [
        "In this section, you should test your model. You could use your dataset (which you generated, step-by-step) until now, to implement, debug and train your model. Now, you should load `test_dataset` that we provided to you as `noisy_test_dataset.csv` and `original_test_dataset.csv`. Run your model on `noisy_test_dataset` and use `original_test_dataset` to evaluate how good you did. run your model on `noisy_test_dataset` to denoise the points. You should put the denoised points in a csv file named `denoised_test_dataset.csv` and submit it with your notebook. Also, You should report the **Mean haversine distance (MHD)** as the measaure of the loss of your model. Go through each trip in the `noisy_test_dataset` and calculate the MHD for each trip. Finally, report the average of the MHDs of all the trips in the `test_dataset` as the MHD of your model."
      ]
    },
    {
      "cell_type": "code",
      "execution_count": 28,
      "metadata": {},
      "outputs": [
        {
          "data": {
            "text/html": [
              "<div>\n",
              "<style scoped>\n",
              "    .dataframe tbody tr th:only-of-type {\n",
              "        vertical-align: middle;\n",
              "    }\n",
              "\n",
              "    .dataframe tbody tr th {\n",
              "        vertical-align: top;\n",
              "    }\n",
              "\n",
              "    .dataframe thead th {\n",
              "        text-align: right;\n",
              "    }\n",
              "</style>\n",
              "<table border=\"1\" class=\"dataframe\">\n",
              "  <thead>\n",
              "    <tr style=\"text-align: right;\">\n",
              "      <th></th>\n",
              "      <th>Unnamed: 0</th>\n",
              "      <th>trip_id</th>\n",
              "      <th>index</th>\n",
              "      <th>source</th>\n",
              "      <th>destination</th>\n",
              "      <th>lat</th>\n",
              "      <th>lon</th>\n",
              "      <th>ride_speed</th>\n",
              "      <th>ride_gps_time</th>\n",
              "    </tr>\n",
              "  </thead>\n",
              "  <tbody>\n",
              "    <tr>\n",
              "      <th>0</th>\n",
              "      <td>0</td>\n",
              "      <td>0</td>\n",
              "      <td>0</td>\n",
              "      <td>4429680702</td>\n",
              "      <td>4695666788</td>\n",
              "      <td>35.771816</td>\n",
              "      <td>51.461178</td>\n",
              "      <td>0.00096</td>\n",
              "      <td>0.466</td>\n",
              "    </tr>\n",
              "    <tr>\n",
              "      <th>1</th>\n",
              "      <td>0</td>\n",
              "      <td>0</td>\n",
              "      <td>1</td>\n",
              "      <td>4429680702</td>\n",
              "      <td>4695666788</td>\n",
              "      <td>35.771458</td>\n",
              "      <td>51.460865</td>\n",
              "      <td>0.00096</td>\n",
              "      <td>0.466</td>\n",
              "    </tr>\n",
              "    <tr>\n",
              "      <th>2</th>\n",
              "      <td>0</td>\n",
              "      <td>0</td>\n",
              "      <td>2</td>\n",
              "      <td>4429680702</td>\n",
              "      <td>4695666788</td>\n",
              "      <td>35.770760</td>\n",
              "      <td>51.460239</td>\n",
              "      <td>0.00096</td>\n",
              "      <td>0.466</td>\n",
              "    </tr>\n",
              "    <tr>\n",
              "      <th>3</th>\n",
              "      <td>0</td>\n",
              "      <td>0</td>\n",
              "      <td>3</td>\n",
              "      <td>4429680702</td>\n",
              "      <td>4695666788</td>\n",
              "      <td>35.770027</td>\n",
              "      <td>51.459633</td>\n",
              "      <td>0.00096</td>\n",
              "      <td>0.466</td>\n",
              "    </tr>\n",
              "    <tr>\n",
              "      <th>4</th>\n",
              "      <td>0</td>\n",
              "      <td>0</td>\n",
              "      <td>4</td>\n",
              "      <td>4429680702</td>\n",
              "      <td>4695666788</td>\n",
              "      <td>35.769318</td>\n",
              "      <td>51.459030</td>\n",
              "      <td>0.00096</td>\n",
              "      <td>0.466</td>\n",
              "    </tr>\n",
              "  </tbody>\n",
              "</table>\n",
              "</div>"
            ],
            "text/plain": [
              "   Unnamed: 0  trip_id  index      source  destination        lat        lon  \\\n",
              "0           0        0      0  4429680702   4695666788  35.771816  51.461178   \n",
              "1           0        0      1  4429680702   4695666788  35.771458  51.460865   \n",
              "2           0        0      2  4429680702   4695666788  35.770760  51.460239   \n",
              "3           0        0      3  4429680702   4695666788  35.770027  51.459633   \n",
              "4           0        0      4  4429680702   4695666788  35.769318  51.459030   \n",
              "\n",
              "   ride_speed  ride_gps_time  \n",
              "0     0.00096          0.466  \n",
              "1     0.00096          0.466  \n",
              "2     0.00096          0.466  \n",
              "3     0.00096          0.466  \n",
              "4     0.00096          0.466  "
            ]
          },
          "execution_count": 28,
          "metadata": {},
          "output_type": "execute_result"
        }
      ],
      "source": [
        "from haversine import haversine\n",
        "from tqdm import tqdm\n",
        "\n",
        "def mean_haversine_distance(denoised_points, original_points):\n",
        "    distance = sum([haversine(denoised_points[i], original_points[i]) for i in range(len(denoised_points))])\n",
        "    return distance / len(denoised_points)\n",
        "\n",
        "test_dataset_noisy = pd.read_csv(\"datasets/noisy_test_dataset.csv\")\n",
        "test_dataset_original = pd.read_csv(\"datasets/original_test_dataset.csv\")\n",
        "\n",
        "test_dataset_original.head()"
      ]
    },
    {
      "cell_type": "code",
      "execution_count": 29,
      "metadata": {},
      "outputs": [
        {
          "data": {
            "text/html": [
              "<div>\n",
              "<style scoped>\n",
              "    .dataframe tbody tr th:only-of-type {\n",
              "        vertical-align: middle;\n",
              "    }\n",
              "\n",
              "    .dataframe tbody tr th {\n",
              "        vertical-align: top;\n",
              "    }\n",
              "\n",
              "    .dataframe thead th {\n",
              "        text-align: right;\n",
              "    }\n",
              "</style>\n",
              "<table border=\"1\" class=\"dataframe\">\n",
              "  <thead>\n",
              "    <tr style=\"text-align: right;\">\n",
              "      <th></th>\n",
              "      <th>Unnamed: 0</th>\n",
              "      <th>trip_id</th>\n",
              "      <th>index</th>\n",
              "      <th>source</th>\n",
              "      <th>destination</th>\n",
              "      <th>lat</th>\n",
              "      <th>lon</th>\n",
              "      <th>ride_speed</th>\n",
              "      <th>ride_gps_time</th>\n",
              "    </tr>\n",
              "  </thead>\n",
              "  <tbody>\n",
              "    <tr>\n",
              "      <th>0</th>\n",
              "      <td>0</td>\n",
              "      <td>0</td>\n",
              "      <td>0</td>\n",
              "      <td>4429680702</td>\n",
              "      <td>4695666788</td>\n",
              "      <td>35.771917</td>\n",
              "      <td>51.461279</td>\n",
              "      <td>0.00096</td>\n",
              "      <td>0.466</td>\n",
              "    </tr>\n",
              "    <tr>\n",
              "      <th>1</th>\n",
              "      <td>0</td>\n",
              "      <td>0</td>\n",
              "      <td>1</td>\n",
              "      <td>4429680702</td>\n",
              "      <td>4695666788</td>\n",
              "      <td>35.771399</td>\n",
              "      <td>51.460806</td>\n",
              "      <td>0.00096</td>\n",
              "      <td>0.466</td>\n",
              "    </tr>\n",
              "    <tr>\n",
              "      <th>2</th>\n",
              "      <td>0</td>\n",
              "      <td>0</td>\n",
              "      <td>2</td>\n",
              "      <td>4429680702</td>\n",
              "      <td>4695666788</td>\n",
              "      <td>35.770759</td>\n",
              "      <td>51.460239</td>\n",
              "      <td>0.00096</td>\n",
              "      <td>0.466</td>\n",
              "    </tr>\n",
              "    <tr>\n",
              "      <th>3</th>\n",
              "      <td>0</td>\n",
              "      <td>0</td>\n",
              "      <td>3</td>\n",
              "      <td>4429680702</td>\n",
              "      <td>4695666788</td>\n",
              "      <td>35.769997</td>\n",
              "      <td>51.459603</td>\n",
              "      <td>0.00096</td>\n",
              "      <td>0.466</td>\n",
              "    </tr>\n",
              "    <tr>\n",
              "      <th>4</th>\n",
              "      <td>0</td>\n",
              "      <td>0</td>\n",
              "      <td>4</td>\n",
              "      <td>4429680702</td>\n",
              "      <td>4695666788</td>\n",
              "      <td>35.769289</td>\n",
              "      <td>51.459002</td>\n",
              "      <td>0.00096</td>\n",
              "      <td>0.466</td>\n",
              "    </tr>\n",
              "  </tbody>\n",
              "</table>\n",
              "</div>"
            ],
            "text/plain": [
              "   Unnamed: 0  trip_id  index      source  destination        lat        lon  \\\n",
              "0           0        0      0  4429680702   4695666788  35.771917  51.461279   \n",
              "1           0        0      1  4429680702   4695666788  35.771399  51.460806   \n",
              "2           0        0      2  4429680702   4695666788  35.770759  51.460239   \n",
              "3           0        0      3  4429680702   4695666788  35.769997  51.459603   \n",
              "4           0        0      4  4429680702   4695666788  35.769289  51.459002   \n",
              "\n",
              "   ride_speed  ride_gps_time  \n",
              "0     0.00096          0.466  \n",
              "1     0.00096          0.466  \n",
              "2     0.00096          0.466  \n",
              "3     0.00096          0.466  \n",
              "4     0.00096          0.466  "
            ]
          },
          "execution_count": 29,
          "metadata": {},
          "output_type": "execute_result"
        }
      ],
      "source": [
        "test_dataset_noisy.head()"
      ]
    },
    {
      "cell_type": "code",
      "execution_count": 30,
      "metadata": {},
      "outputs": [
        {
          "name": "stderr",
          "output_type": "stream",
          "text": [
            "100%|██████████| 19/19 [05:42<00:00, 18.04s/it]"
          ]
        },
        {
          "name": "stdout",
          "output_type": "stream",
          "text": [
            "0.007975417463559046\n"
          ]
        },
        {
          "name": "stderr",
          "output_type": "stream",
          "text": [
            "\n"
          ]
        }
      ],
      "source": [
        "# Iterate through each noisy ride and denoise it, then calculate the mean haversine distance between the denoised ride and the original ride\n",
        "# Report the Average Mean Haversine Distance for all the rides in the test dataset\n",
        "# This should be of order 10^-3\n",
        "test_dataset_denoised = test_dataset_noisy.copy(deep=True)\n",
        "\n",
        "for i in tqdm(test_dataset_noisy.trip_id.unique()):\n",
        "    trip_obs = test_dataset_noisy.loc[test_dataset_noisy[\"trip_id\"] == i].sort_values(\"index\")\n",
        "    observation = [(row[0], row[1]) for row in trip_obs[[\"lat\", \"lon\"]].to_numpy()]\n",
        "    hmm = HMM(pasdaran_streets, observation)\n",
        "    denoised = viterbi(hmm)\n",
        "    for j in range(len(denoised)):\n",
        "        test_dataset_denoised.loc[(test_dataset_denoised[\"trip_id\"] == i) & (test_dataset_denoised[\"index\"] == j), [\"lat\", \"lon\"]] = denoised[j]\n",
        "    \n",
        "noisy_nodes = [(row[0], row[1]) for row in test_dataset_denoised[[\"lat\", \"lon\"]].to_numpy()]\n",
        "original_nodes = [(row[0], row[1]) for row in test_dataset_original[[\"lat\", \"lon\"]].to_numpy()]\n",
        "print(mean_haversine_distance(noisy_nodes, original_nodes))\n",
        "\n",
        "test_dataset_denoised.to_csv(\"denoised_test_dataset.csv\", index=False)"
      ]
    }
  ],
  "metadata": {
    "colab": {
      "provenance": []
    },
    "kernelspec": {
      "display_name": "Python 3",
      "name": "python3"
    },
    "language_info": {
      "codemirror_mode": {
        "name": "ipython",
        "version": 3
      },
      "file_extension": ".py",
      "mimetype": "text/x-python",
      "name": "python",
      "nbconvert_exporter": "python",
      "pygments_lexer": "ipython3",
      "version": "3.11.3"
    },
    "widgets": {
      "application/vnd.jupyter.widget-state+json": {
        "77b588a25f604d019680da94df72f8d6": {
          "model_module": "keplergl-jupyter",
          "model_module_version": "^0.3.2",
          "model_name": "KeplerGlModal",
          "state": {
            "_dom_classes": [],
            "_model_module": "keplergl-jupyter",
            "_model_module_version": "^0.3.2",
            "_model_name": "KeplerGlModal",
            "_view_count": null,
            "_view_module": "keplergl-jupyter",
            "_view_module_version": "^0.3.2",
            "_view_name": "KeplerGlView",
            "config": {
              "config": {
                "mapState": {
                  "bearing": 0,
                  "dragRotate": false,
                  "isSplit": false,
                  "latitude": 35.741495361297474,
                  "longitude": 51.41731369359277,
                  "pitch": 0,
                  "zoom": 12.133728990493546
                },
                "mapStyle": {
                  "mapStyles": {},
                  "styleType": "dark",
                  "threeDBuildingColor": [
                    9.665468314072013,
                    17.18305478057247,
                    31.1442867897876
                  ],
                  "topLayerGroups": {},
                  "visibleLayerGroups": {
                    "3d building": false,
                    "border": false,
                    "building": true,
                    "label": true,
                    "land": true,
                    "road": true,
                    "water": true
                  }
                },
                "visState": {
                  "animationConfig": {
                    "currentTime": null,
                    "speed": 1
                  },
                  "filters": [],
                  "interactionConfig": {
                    "brush": {
                      "enabled": false,
                      "size": 0.5
                    },
                    "coordinate": {
                      "enabled": false
                    },
                    "geocoder": {
                      "enabled": false
                    },
                    "tooltip": {
                      "compareMode": false,
                      "compareType": "absolute",
                      "enabled": true,
                      "fieldsToShow": {
                        "all_data": [
                          {
                            "format": null,
                            "name": "type"
                          }
                        ]
                      }
                    }
                  },
                  "layerBlending": "normal",
                  "layers": [
                    {
                      "config": {
                        "color": [
                          18,
                          147,
                          154
                        ],
                        "columns": {
                          "altitude": null,
                          "lat": "lat",
                          "lng": "lon"
                        },
                        "dataId": "all_data",
                        "hidden": false,
                        "highlightColor": [
                          252,
                          242,
                          26,
                          255
                        ],
                        "isVisible": true,
                        "label": "locations",
                        "textLabel": [
                          {
                            "alignment": "center",
                            "anchor": "start",
                            "color": [
                              255,
                              255,
                              255
                            ],
                            "field": null,
                            "offset": [
                              0,
                              0
                            ],
                            "size": 18
                          }
                        ],
                        "visConfig": {
                          "colorRange": {
                            "category": "ColorBrewer",
                            "colors": [
                              "#e41a1c",
                              "#377eb8",
                              "#4daf4a",
                              "#984ea3",
                              "#ff7f00",
                              "#ffff33"
                            ],
                            "name": "ColorBrewer Set1-6",
                            "type": "qualitative"
                          },
                          "filled": true,
                          "fixedRadius": false,
                          "opacity": 0.8,
                          "outline": false,
                          "radius": 10,
                          "radiusRange": [
                            0,
                            50
                          ],
                          "strokeColor": null,
                          "strokeColorRange": {
                            "category": "Uber",
                            "colors": [
                              "#5A1846",
                              "#900C3F",
                              "#C70039",
                              "#E3611C",
                              "#F1920E",
                              "#FFC300"
                            ],
                            "name": "Global Warming",
                            "type": "sequential"
                          },
                          "thickness": 2
                        }
                      },
                      "id": "ivbjosj",
                      "type": "point",
                      "visualChannels": {
                        "colorField": {
                          "name": "type",
                          "type": "string"
                        },
                        "colorScale": "ordinal",
                        "sizeField": null,
                        "sizeScale": "linear",
                        "strokeColorField": null,
                        "strokeColorScale": "quantile"
                      }
                    }
                  ],
                  "splitMaps": []
                }
              },
              "version": "v1"
            },
            "data": {
              "all_data": {
                "columns": [
                  "lat",
                  "lon",
                  "type"
                ],
                "data": [
                  [
                    35.76289749145508,
                    51.41752243041992,
                    "university"
                  ],
                  [
                    35.78015899658203,
                    51.31702423095703,
                    "university"
                  ],
                  [
                    35.75886917114258,
                    51.400691986083984,
                    "university"
                  ],
                  [
                    35.80634689331055,
                    51.43412780761719,
                    "university"
                  ],
                  [
                    35.70586395263672,
                    51.39415740966797,
                    "university"
                  ],
                  [
                    35.71175765991211,
                    51.41083908081055,
                    "university"
                  ],
                  [
                    35.703773498535156,
                    51.399173736572266,
                    "university"
                  ],
                  [
                    35.6207160949707,
                    51.391910552978516,
                    "university"
                  ],
                  [
                    35.70736312866211,
                    51.39768600463867,
                    "university"
                  ],
                  [
                    35.70258331298828,
                    51.41768264770508,
                    "university"
                  ],
                  [
                    35.70863342285156,
                    51.38536071777344,
                    "university"
                  ],
                  [
                    35.77996826171875,
                    51.380184173583984,
                    "university"
                  ],
                  [
                    35.72111511230469,
                    51.38161849975586,
                    "university"
                  ],
                  [
                    35.79006576538086,
                    51.312965393066406,
                    "university"
                  ],
                  [
                    35.72325134277344,
                    51.385257720947266,
                    "university"
                  ],
                  [
                    35.72307205200195,
                    51.38475036621094,
                    "university"
                  ],
                  [
                    35.800254821777344,
                    51.462608337402344,
                    "university"
                  ],
                  [
                    35.8005485534668,
                    51.46290588378906,
                    "university"
                  ],
                  [
                    35.80044937133789,
                    51.46282958984375,
                    "university"
                  ],
                  [
                    35.8001708984375,
                    51.4626350402832,
                    "university"
                  ],
                  [
                    35.80037307739258,
                    51.46287155151367,
                    "university"
                  ],
                  [
                    35.809818267822266,
                    51.46974182128906,
                    "university"
                  ],
                  [
                    35.80210876464844,
                    51.49042510986328,
                    "university"
                  ],
                  [
                    35.802467346191406,
                    51.49069595336914,
                    "university"
                  ],
                  [
                    35.802852630615234,
                    51.491119384765625,
                    "university"
                  ],
                  [
                    35.805320739746094,
                    51.49176025390625,
                    "university"
                  ],
                  [
                    35.69378662109375,
                    51.411800384521484,
                    "university"
                  ],
                  [
                    35.70403289794922,
                    51.35809326171875,
                    "high_school"
                  ],
                  [
                    35.75897979736328,
                    51.350746154785156,
                    "high_school"
                  ],
                  [
                    35.71183395385742,
                    51.49424743652344,
                    "high_school"
                  ],
                  [
                    35.66155242919922,
                    51.351497650146484,
                    "high_school"
                  ],
                  [
                    35.662174224853516,
                    51.35105895996094,
                    "high_school"
                  ],
                  [
                    35.66262435913086,
                    51.351051330566406,
                    "high_school"
                  ],
                  [
                    35.77766036987305,
                    51.33124923706055,
                    "high_school"
                  ],
                  [
                    35.71391677856445,
                    51.459285736083984,
                    "high_school"
                  ],
                  [
                    35.69200897216797,
                    51.39494705200195,
                    "high_school"
                  ],
                  [
                    35.71049880981445,
                    51.47433090209961,
                    "high_school"
                  ],
                  [
                    35.631343841552734,
                    51.409542083740234,
                    "high_school"
                  ],
                  [
                    35.629573822021484,
                    51.410064697265625,
                    "high_school"
                  ],
                  [
                    35.75343704223633,
                    51.527591705322266,
                    "high_school"
                  ],
                  [
                    35.690223693847656,
                    51.392024993896484,
                    "high_school"
                  ],
                  [
                    35.73594665527344,
                    51.29774475097656,
                    "high_school"
                  ],
                  [
                    35.724422454833984,
                    51.406089782714844,
                    "cafe"
                  ],
                  [
                    35.774654388427734,
                    51.37675857543945,
                    "cafe"
                  ],
                  [
                    35.767845153808594,
                    51.44182586669922,
                    "cafe"
                  ],
                  [
                    35.75910568237305,
                    51.453399658203125,
                    "cafe"
                  ],
                  [
                    35.790802001953125,
                    51.41978073120117,
                    "cafe"
                  ],
                  [
                    35.697750091552734,
                    51.407203674316406,
                    "cafe"
                  ],
                  [
                    35.75694274902344,
                    51.34369659423828,
                    "cafe"
                  ],
                  [
                    35.79023361206055,
                    51.49240493774414,
                    "cafe"
                  ],
                  [
                    35.76307678222656,
                    51.33781814575195,
                    "cafe"
                  ],
                  [
                    35.77212905883789,
                    51.38304138183594,
                    "cafe"
                  ],
                  [
                    35.70368576049805,
                    51.4019775390625,
                    "cafe"
                  ],
                  [
                    35.722991943359375,
                    51.40835189819336,
                    "cafe"
                  ],
                  [
                    35.727569580078125,
                    51.407840728759766,
                    "cafe"
                  ],
                  [
                    35.63152313232422,
                    51.41822052001953,
                    "cafe"
                  ],
                  [
                    35.709388732910156,
                    51.42061996459961,
                    "cafe"
                  ],
                  [
                    35.725318908691406,
                    51.41109848022461,
                    "cafe"
                  ],
                  [
                    35.70684051513672,
                    51.414459228515625,
                    "cafe"
                  ],
                  [
                    35.6965446472168,
                    51.42274856567383,
                    "cafe"
                  ],
                  [
                    35.725250244140625,
                    51.33550262451172,
                    "cafe"
                  ],
                  [
                    35.753082275390625,
                    51.333251953125,
                    "cafe"
                  ],
                  [
                    35.69471740722656,
                    51.41681671142578,
                    "cafe"
                  ],
                  [
                    35.71518325805664,
                    51.419681549072266,
                    "cafe"
                  ],
                  [
                    35.76353073120117,
                    51.4109992980957,
                    "cafe"
                  ],
                  [
                    35.71308898925781,
                    51.41477584838867,
                    "cafe"
                  ],
                  [
                    35.76559066772461,
                    51.45576858520508,
                    "cafe"
                  ],
                  [
                    35.76375961303711,
                    51.3369140625,
                    "cafe"
                  ],
                  [
                    35.75556182861328,
                    51.45295715332031,
                    "cafe"
                  ],
                  [
                    35.72909927368164,
                    51.41273880004883,
                    "cafe"
                  ],
                  [
                    35.73232650756836,
                    51.48518371582031,
                    "cafe"
                  ],
                  [
                    35.723331451416016,
                    51.42930221557617,
                    "cafe"
                  ],
                  [
                    35.76866149902344,
                    51.458248138427734,
                    "cafe"
                  ],
                  [
                    35.76603317260742,
                    51.354736328125,
                    "cafe"
                  ],
                  [
                    35.71354675292969,
                    51.39773178100586,
                    "cafe"
                  ],
                  [
                    35.707435607910156,
                    51.39046096801758,
                    "cafe"
                  ],
                  [
                    35.7591438293457,
                    51.404632568359375,
                    "cafe"
                  ],
                  [
                    35.7248649597168,
                    51.404911041259766,
                    "cafe"
                  ],
                  [
                    35.729496002197266,
                    51.3992805480957,
                    "cafe"
                  ],
                  [
                    35.726768493652344,
                    51.40500259399414,
                    "cafe"
                  ],
                  [
                    35.71022033691406,
                    51.44589614868164,
                    "cafe"
                  ],
                  [
                    35.76286697387695,
                    51.444618225097656,
                    "cafe"
                  ],
                  [
                    35.75719451904297,
                    51.41733169555664,
                    "cafe"
                  ],
                  [
                    35.77216720581055,
                    51.43892288208008,
                    "cafe"
                  ],
                  [
                    35.70035934448242,
                    51.38949966430664,
                    "cafe"
                  ],
                  [
                    35.762081146240234,
                    51.381324768066406,
                    "cafe"
                  ],
                  [
                    35.785369873046875,
                    51.4234504699707,
                    "cafe"
                  ],
                  [
                    35.776527404785156,
                    51.36223220825195,
                    "cafe"
                  ],
                  [
                    35.77958679199219,
                    51.367088317871094,
                    "cafe"
                  ],
                  [
                    35.700286865234375,
                    51.40456771850586,
                    "cafe"
                  ],
                  [
                    35.771156311035156,
                    51.37647247314453,
                    "cafe"
                  ],
                  [
                    35.777076721191406,
                    51.413604736328125,
                    "cafe"
                  ],
                  [
                    35.786170959472656,
                    51.371952056884766,
                    "cafe"
                  ],
                  [
                    35.70206069946289,
                    51.398681640625,
                    "cafe"
                  ],
                  [
                    35.71193313598633,
                    51.42136001586914,
                    "cafe"
                  ],
                  [
                    35.70170974731445,
                    51.40547180175781,
                    "cafe"
                  ],
                  [
                    35.68861770629883,
                    51.41917419433594,
                    "cafe"
                  ],
                  [
                    35.70580291748047,
                    51.425819396972656,
                    "cafe"
                  ],
                  [
                    35.70561218261719,
                    51.423526763916016,
                    "cafe"
                  ],
                  [
                    35.70561599731445,
                    51.42327117919922,
                    "cafe"
                  ],
                  [
                    35.70555114746094,
                    51.42277908325195,
                    "cafe"
                  ],
                  [
                    35.71506881713867,
                    51.421897888183594,
                    "cafe"
                  ],
                  [
                    35.73873519897461,
                    51.313541412353516,
                    "cafe"
                  ],
                  [
                    35.7122688293457,
                    51.416194915771484,
                    "cafe"
                  ],
                  [
                    35.745811462402344,
                    51.40472412109375,
                    "cafe"
                  ],
                  [
                    35.708072662353516,
                    51.39726638793945,
                    "cafe"
                  ],
                  [
                    35.79587936401367,
                    51.443939208984375,
                    "cafe"
                  ],
                  [
                    35.76286315917969,
                    51.45756912231445,
                    "cafe"
                  ],
                  [
                    35.71192169189453,
                    51.421627044677734,
                    "cafe"
                  ],
                  [
                    35.794410705566406,
                    51.4733772277832,
                    "cafe"
                  ],
                  [
                    35.71864700317383,
                    51.428504943847656,
                    "cafe"
                  ],
                  [
                    35.72669982910156,
                    51.30411911010742,
                    "cafe"
                  ],
                  [
                    35.676116943359375,
                    51.42127227783203,
                    "cafe"
                  ],
                  [
                    35.754127502441406,
                    51.41910934448242,
                    "cafe"
                  ],
                  [
                    35.71757125854492,
                    51.426536560058594,
                    "cafe"
                  ],
                  [
                    35.72337341308594,
                    51.429283142089844,
                    "cafe"
                  ],
                  [
                    35.705440521240234,
                    51.406158447265625,
                    "cafe"
                  ],
                  [
                    35.69971466064453,
                    51.402793884277344,
                    "cafe"
                  ],
                  [
                    35.72304153442383,
                    51.322532653808594,
                    "cafe"
                  ],
                  [
                    35.78276062011719,
                    51.436344146728516,
                    "cafe"
                  ],
                  [
                    35.774322509765625,
                    51.42145538330078,
                    "cafe"
                  ],
                  [
                    35.776405334472656,
                    51.41335678100586,
                    "cafe"
                  ],
                  [
                    35.73759460449219,
                    51.41489028930664,
                    "cafe"
                  ],
                  [
                    35.79175567626953,
                    51.43525695800781,
                    "cafe"
                  ],
                  [
                    35.72116470336914,
                    51.33324432373047,
                    "cafe"
                  ],
                  [
                    35.80258560180664,
                    51.457584381103516,
                    "cafe"
                  ],
                  [
                    35.764713287353516,
                    51.45895004272461,
                    "cafe"
                  ],
                  [
                    35.738582611083984,
                    51.313663482666016,
                    "cafe"
                  ],
                  [
                    35.80086898803711,
                    51.48409652709961,
                    "cafe"
                  ],
                  [
                    35.78458023071289,
                    51.37349319458008,
                    "cafe"
                  ],
                  [
                    35.79568099975586,
                    51.39535903930664,
                    "cafe"
                  ],
                  [
                    35.749855041503906,
                    51.39814758300781,
                    "cafe"
                  ],
                  [
                    35.74991226196289,
                    51.398136138916016,
                    "cafe"
                  ],
                  [
                    35.70216369628906,
                    51.40282440185547,
                    "cafe"
                  ],
                  [
                    35.70133972167969,
                    51.43513870239258,
                    "cafe"
                  ],
                  [
                    35.697845458984375,
                    51.378562927246094,
                    "cafe"
                  ],
                  [
                    35.7081413269043,
                    51.41559982299805,
                    "cafe"
                  ],
                  [
                    35.724266052246094,
                    51.43381881713867,
                    "cafe"
                  ],
                  [
                    35.70137405395508,
                    51.41690444946289,
                    "cafe"
                  ],
                  [
                    35.77505111694336,
                    51.436336517333984,
                    "cafe"
                  ],
                  [
                    35.7017936706543,
                    51.39128112792969,
                    "cafe"
                  ],
                  [
                    35.744571685791016,
                    51.398643493652344,
                    "cafe"
                  ],
                  [
                    35.715763092041016,
                    51.41240692138672,
                    "cafe"
                  ],
                  [
                    35.69470977783203,
                    51.41780090332031,
                    "cafe"
                  ],
                  [
                    35.6952018737793,
                    51.43265914916992,
                    "cafe"
                  ],
                  [
                    35.68989944458008,
                    51.42830276489258,
                    "cafe"
                  ],
                  [
                    35.699588775634766,
                    51.4194450378418,
                    "cafe"
                  ],
                  [
                    35.768795013427734,
                    51.462345123291016,
                    "cafe"
                  ],
                  [
                    35.76981735229492,
                    51.45973205566406,
                    "cafe"
                  ],
                  [
                    35.80223083496094,
                    51.45801544189453,
                    "cafe"
                  ],
                  [
                    35.760799407958984,
                    51.40492630004883,
                    "cafe"
                  ],
                  [
                    35.78624725341797,
                    51.42687225341797,
                    "cafe"
                  ],
                  [
                    35.78534698486328,
                    51.42979049682617,
                    "cafe"
                  ],
                  [
                    35.711185455322266,
                    51.41284942626953,
                    "cafe"
                  ],
                  [
                    35.75334548950195,
                    51.4124641418457,
                    "cafe"
                  ],
                  [
                    35.69802474975586,
                    51.40579605102539,
                    "cafe"
                  ],
                  [
                    35.72294998168945,
                    51.44863510131836,
                    "cafe"
                  ],
                  [
                    35.69292068481445,
                    51.41434860229492,
                    "cafe"
                  ],
                  [
                    35.78012466430664,
                    51.36083221435547,
                    "cafe"
                  ],
                  [
                    35.78132629394531,
                    51.335052490234375,
                    "cafe"
                  ],
                  [
                    35.70237731933594,
                    51.402347564697266,
                    "cafe"
                  ],
                  [
                    35.723018646240234,
                    51.43146896362305,
                    "cafe"
                  ],
                  [
                    35.701480865478516,
                    51.41166687011719,
                    "cafe"
                  ],
                  [
                    35.70283508300781,
                    51.42124938964844,
                    "cafe"
                  ],
                  [
                    35.68946838378906,
                    51.40704345703125,
                    "cafe"
                  ],
                  [
                    35.721275329589844,
                    51.433589935302734,
                    "cafe"
                  ],
                  [
                    35.77017593383789,
                    51.49202346801758,
                    "cafe"
                  ],
                  [
                    35.79787826538086,
                    51.44856262207031,
                    "cafe"
                  ],
                  [
                    35.7652587890625,
                    51.35844039916992,
                    "cafe"
                  ],
                  [
                    35.76520919799805,
                    51.358177185058594,
                    "cafe"
                  ],
                  [
                    35.76002502441406,
                    51.33375930786133,
                    "cafe"
                  ],
                  [
                    35.75056076049805,
                    51.39841842651367,
                    "cafe"
                  ],
                  [
                    35.80780029296875,
                    51.42704772949219,
                    "cafe"
                  ],
                  [
                    35.764312744140625,
                    51.350582122802734,
                    "cafe"
                  ],
                  [
                    35.7015495300293,
                    51.40038299560547,
                    "cafe"
                  ],
                  [
                    35.70505142211914,
                    51.41578674316406,
                    "cafe"
                  ],
                  [
                    35.72111511230469,
                    51.320438385009766,
                    "cafe"
                  ],
                  [
                    35.70899200439453,
                    51.41307830810547,
                    "cafe"
                  ],
                  [
                    35.757083892822266,
                    51.45296096801758,
                    "cafe"
                  ],
                  [
                    35.761966705322266,
                    51.459712982177734,
                    "cafe"
                  ],
                  [
                    35.703556060791016,
                    51.41585159301758,
                    "cafe"
                  ],
                  [
                    35.707763671875,
                    51.434471130371094,
                    "cafe"
                  ],
                  [
                    35.76963806152344,
                    51.44078826904297,
                    "cafe"
                  ],
                  [
                    35.80937957763672,
                    51.454627990722656,
                    "cafe"
                  ],
                  [
                    35.71023941040039,
                    51.414215087890625,
                    "cafe"
                  ],
                  [
                    35.71392822265625,
                    51.41915512084961,
                    "cafe"
                  ],
                  [
                    35.726234436035156,
                    51.526702880859375,
                    "cafe"
                  ],
                  [
                    35.71406555175781,
                    51.418296813964844,
                    "cafe"
                  ],
                  [
                    35.77045822143555,
                    51.46163558959961,
                    "cafe"
                  ],
                  [
                    35.70259094238281,
                    51.40258026123047,
                    "cafe"
                  ],
                  [
                    35.698856353759766,
                    51.406341552734375,
                    "cafe"
                  ],
                  [
                    35.77899169921875,
                    51.376319885253906,
                    "cafe"
                  ],
                  [
                    35.729434967041016,
                    51.49258804321289,
                    "cafe"
                  ],
                  [
                    35.76433181762695,
                    51.4845085144043,
                    "cafe"
                  ],
                  [
                    35.77115249633789,
                    51.35517120361328,
                    "cafe"
                  ],
                  [
                    35.76969528198242,
                    51.4264030456543,
                    "cafe"
                  ],
                  [
                    35.7047119140625,
                    51.390804290771484,
                    "cafe"
                  ],
                  [
                    35.7903938293457,
                    51.461238861083984,
                    "cafe"
                  ],
                  [
                    35.755149841308594,
                    51.45304870605469,
                    "cafe"
                  ],
                  [
                    35.74198532104492,
                    51.44419860839844,
                    "cafe"
                  ],
                  [
                    35.7099609375,
                    51.41895294189453,
                    "cafe"
                  ],
                  [
                    35.78750228881836,
                    51.423526763916016,
                    "cafe"
                  ],
                  [
                    35.70117950439453,
                    51.41415786743164,
                    "cafe"
                  ],
                  [
                    35.70115280151367,
                    51.41484451293945,
                    "cafe"
                  ],
                  [
                    35.77179718017578,
                    51.42901611328125,
                    "cafe"
                  ],
                  [
                    35.71628952026367,
                    51.417999267578125,
                    "cafe"
                  ],
                  [
                    35.69702911376953,
                    51.40525817871094,
                    "cafe"
                  ],
                  [
                    35.70446014404297,
                    51.40089416503906,
                    "cafe"
                  ],
                  [
                    35.63487243652344,
                    51.381256103515625,
                    "cafe"
                  ],
                  [
                    35.697288513183594,
                    51.40028381347656,
                    "cafe"
                  ],
                  [
                    35.79673385620117,
                    51.44426345825195,
                    "cafe"
                  ],
                  [
                    35.72031021118164,
                    51.405006408691406,
                    "cafe"
                  ],
                  [
                    35.76267623901367,
                    51.4416389465332,
                    "cafe"
                  ],
                  [
                    35.70962905883789,
                    51.38954162597656,
                    "cafe"
                  ],
                  [
                    35.721492767333984,
                    51.43083953857422,
                    "cafe"
                  ],
                  [
                    35.745323181152344,
                    51.5163688659668,
                    "cafe"
                  ],
                  [
                    35.768775939941406,
                    51.466094970703125,
                    "cafe"
                  ],
                  [
                    35.76815414428711,
                    51.4650993347168,
                    "cafe"
                  ],
                  [
                    35.790218353271484,
                    51.46113204956055,
                    "cafe"
                  ],
                  [
                    35.76251220703125,
                    51.41444778442383,
                    "cafe"
                  ],
                  [
                    35.77495574951172,
                    51.436492919921875,
                    "cafe"
                  ],
                  [
                    35.79266357421875,
                    51.452789306640625,
                    "cafe"
                  ],
                  [
                    35.73377990722656,
                    51.34520721435547,
                    "cafe"
                  ],
                  [
                    35.72542190551758,
                    51.4110221862793,
                    "cafe"
                  ],
                  [
                    35.7710075378418,
                    51.420745849609375,
                    "cafe"
                  ],
                  [
                    35.702369689941406,
                    51.40862274169922,
                    "cafe"
                  ],
                  [
                    35.80111312866211,
                    51.415992736816406,
                    "cafe"
                  ],
                  [
                    35.71823501586914,
                    51.420616149902344,
                    "cafe"
                  ],
                  [
                    35.702415466308594,
                    51.39781951904297,
                    "cafe"
                  ],
                  [
                    35.64780044555664,
                    51.39326477050781,
                    "cafe"
                  ],
                  [
                    35.79930114746094,
                    51.46697998046875,
                    "cafe"
                  ],
                  [
                    35.76483917236328,
                    51.440834045410156,
                    "cafe"
                  ],
                  [
                    35.736289978027344,
                    51.33262634277344,
                    "cafe"
                  ],
                  [
                    35.79326629638672,
                    51.42427444458008,
                    "cafe"
                  ],
                  [
                    35.6976203918457,
                    51.394691467285156,
                    "cafe"
                  ],
                  [
                    35.79032516479492,
                    51.42139434814453,
                    "cafe"
                  ],
                  [
                    35.72048568725586,
                    51.41410827636719,
                    "cafe"
                  ],
                  [
                    35.7376708984375,
                    51.43244934082031,
                    "cafe"
                  ],
                  [
                    35.63514709472656,
                    51.40928649902344,
                    "cafe"
                  ],
                  [
                    35.78006362915039,
                    51.44975280761719,
                    "cafe"
                  ],
                  [
                    35.700767517089844,
                    51.39577102661133,
                    "cafe"
                  ]
                ],
                "index": [
                  782,
                  928,
                  1191,
                  3344,
                  3867,
                  4643,
                  5146,
                  5866,
                  7953,
                  9300,
                  9645,
                  9696,
                  14937,
                  17874,
                  18031,
                  18032,
                  18141,
                  18142,
                  18143,
                  18144,
                  18145,
                  18146,
                  18147,
                  18148,
                  18149,
                  18150,
                  19239,
                  99,
                  2080,
                  2285,
                  3217,
                  3218,
                  3219,
                  3367,
                  6083,
                  6269,
                  6775,
                  7019,
                  7020,
                  8802,
                  11068,
                  17658,
                  191,
                  604,
                  684,
                  698,
                  945,
                  1447,
                  1678,
                  1817,
                  1904,
                  1948,
                  1975,
                  2084,
                  2086,
                  2087,
                  2114,
                  2160,
                  2184,
                  2239,
                  2276,
                  2388,
                  2407,
                  2416,
                  2419,
                  2420,
                  2433,
                  2577,
                  2614,
                  2802,
                  2886,
                  3098,
                  3181,
                  3228,
                  3270,
                  3271,
                  3337,
                  3407,
                  3408,
                  3409,
                  3516,
                  3563,
                  3570,
                  3967,
                  4079,
                  4087,
                  4204,
                  4230,
                  4241,
                  4243,
                  4266,
                  4330,
                  4386,
                  4526,
                  4559,
                  4644,
                  4646,
                  4699,
                  4700,
                  4702,
                  4703,
                  4774,
                  4913,
                  4956,
                  4957,
                  4958,
                  5076,
                  5157,
                  5299,
                  5349,
                  5518,
                  5625,
                  5641,
                  5737,
                  5922,
                  6087,
                  6118,
                  6126,
                  6133,
                  6174,
                  6223,
                  6226,
                  6238,
                  6240,
                  6262,
                  6334,
                  6398,
                  6401,
                  6483,
                  6536,
                  6540,
                  6563,
                  6575,
                  6721,
                  6728,
                  6739,
                  6801,
                  6816,
                  6818,
                  6884,
                  6889,
                  7242,
                  7526,
                  7730,
                  7758,
                  7807,
                  7860,
                  7926,
                  7944,
                  8135,
                  8195,
                  8225,
                  8226,
                  8365,
                  8374,
                  8416,
                  8450,
                  8509,
                  8587,
                  8724,
                  8749,
                  8774,
                  8775,
                  8797,
                  8859,
                  8953,
                  8962,
                  8969,
                  9083,
                  9084,
                  9098,
                  9385,
                  9617,
                  9761,
                  9966,
                  9992,
                  10126,
                  10275,
                  10431,
                  10432,
                  10464,
                  10624,
                  10754,
                  10770,
                  10950,
                  11014,
                  11088,
                  11174,
                  11307,
                  11616,
                  11685,
                  11704,
                  11894,
                  12040,
                  12092,
                  12229,
                  12230,
                  12308,
                  12384,
                  12394,
                  12397,
                  12672,
                  12956,
                  12960,
                  13004,
                  13134,
                  13160,
                  13199,
                  13212,
                  13324,
                  13978,
                  14044,
                  14082,
                  14171,
                  14437,
                  14532,
                  14755,
                  14756,
                  15075,
                  15184,
                  15326,
                  15549,
                  15868,
                  16009,
                  16187,
                  16316,
                  16354,
                  17152,
                  17227,
                  17677,
                  17794,
                  18034,
                  18216,
                  18254,
                  18263,
                  18488,
                  18642,
                  18663,
                  18932,
                  19069,
                  19083
                ]
              }
            },
            "height": 800,
            "layout": "IPY_MODEL_7f0e0643151c4b4c8166724f7b2e8ab5",
            "value": "Hello World!"
          }
        },
        "7f0e0643151c4b4c8166724f7b2e8ab5": {
          "model_module": "@jupyter-widgets/base",
          "model_module_version": "1.2.0",
          "model_name": "LayoutModel",
          "state": {
            "_model_module": "@jupyter-widgets/base",
            "_model_module_version": "1.2.0",
            "_model_name": "LayoutModel",
            "_view_count": null,
            "_view_module": "@jupyter-widgets/base",
            "_view_module_version": "1.2.0",
            "_view_name": "LayoutView",
            "align_content": null,
            "align_items": null,
            "align_self": null,
            "border": null,
            "bottom": null,
            "display": null,
            "flex": null,
            "flex_flow": null,
            "grid_area": null,
            "grid_auto_columns": null,
            "grid_auto_flow": null,
            "grid_auto_rows": null,
            "grid_column": null,
            "grid_gap": null,
            "grid_row": null,
            "grid_template_areas": null,
            "grid_template_columns": null,
            "grid_template_rows": null,
            "height": null,
            "justify_content": null,
            "justify_items": null,
            "left": null,
            "margin": null,
            "max_height": null,
            "max_width": null,
            "min_height": null,
            "min_width": null,
            "object_fit": null,
            "object_position": null,
            "order": null,
            "overflow": null,
            "overflow_x": null,
            "overflow_y": null,
            "padding": null,
            "right": null,
            "top": null,
            "visibility": null,
            "width": null
          }
        }
      }
    }
  },
  "nbformat": 4,
  "nbformat_minor": 0
}
